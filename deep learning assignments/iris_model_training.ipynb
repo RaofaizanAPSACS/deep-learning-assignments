{
 "cells": [
  {
   "cell_type": "markdown",
   "metadata": {},
   "source": [
    "# ASSIGNMENT : IRIS MULTI-CLASS CLASSIFICATION\n",
    "\n",
    "###### Purpose :\n",
    "To predict the species of flower .\n",
    "###### Description :\n",
    "The dataset contains a set of 150 records under 5 attributes - Petal Length, Petal Width, Sepal Length, Sepal width and Class(Species).\n",
    "###### Requirements :\n",
    "1) Code must be in tf 2.0 .\n",
    "\n",
    "2) Accuracy must be in between 95-97% .\n",
    "\n",
    "3) Model shouldn't be Overfit (You can add drop out layer for this) ."
   ]
  },
  {
   "cell_type": "markdown",
   "metadata": {},
   "source": [
    "### STEP 1 : Load all the necessary libraries "
   ]
  },
  {
   "cell_type": "code",
   "execution_count": 1,
   "metadata": {},
   "outputs": [],
   "source": [
    "import tensorflow as tf\n",
    "import pandas as pd\n",
    "import numpy as np\n",
    "import matplotlib.pyplot as plt"
   ]
  },
  {
   "cell_type": "markdown",
   "metadata": {},
   "source": [
    "### STEP 2 : Data Preparation\n",
    "This step consists of multiple sub steps from data loading [download](https://github.com/ramsha275/PIAIC-Sir-Anees-Quarter-2/blob/master/Deep%20Learning/iris.csv),shuffling ,spliting in **Train** and **Test** sets to one-hot-enconding on labels . \n"
   ]
  },
  {
   "cell_type": "code",
   "execution_count": 2,
   "metadata": {},
   "outputs": [],
   "source": [
    "# loading of data \n",
    "iris = pd.read_csv(\"iris.csv\")"
   ]
  },
  {
   "cell_type": "code",
   "execution_count": 11,
   "metadata": {},
   "outputs": [],
   "source": [
    "# shuffling of data\n",
    "iris = iris.sample(frac=1)"
   ]
  },
  {
   "cell_type": "code",
   "execution_count": 12,
   "metadata": {},
   "outputs": [
    {
     "name": "stdout",
     "output_type": "stream",
     "text": [
      "(150, 5)\n"
     ]
    }
   ],
   "source": [
    "# dim of dataframe\n",
    "print(iris.shape)\n"
   ]
  },
  {
   "cell_type": "code",
   "execution_count": 18,
   "metadata": {},
   "outputs": [
    {
     "data": {
      "text/plain": [
       "array([2, 0, 1], dtype=int64)"
      ]
     },
     "execution_count": 18,
     "metadata": {},
     "output_type": "execute_result"
    }
   ],
   "source": [
    "from sklearn import preprocessing \n",
    "  \n",
    "# label_encoder object knows how to understand word labels. \n",
    "label_encoder = preprocessing.LabelEncoder() \n",
    "  \n",
    "# Encode labels in column 'species'. \n",
    "iris['variety']= label_encoder.fit_transform(iris['variety']) \n",
    "  \n",
    "iris['variety'].unique()"
   ]
  },
  {
   "cell_type": "code",
   "execution_count": 19,
   "metadata": {},
   "outputs": [],
   "source": [
    "# spliting of data into train,test and validation sets with unique variable name.\n",
    "features = np.array(iris.drop([\"variety\"],axis=1))\n",
    "labels = np.array(iris[\"variety\"])\n",
    "x_train = features[:60]\n",
    "y_train = labels[:60]\n",
    "x_test = features[60:105]\n",
    "y_test = labels[60:105]\n",
    "x_val = features[105:]\n",
    "y_val = labels[105:]"
   ]
  },
  {
   "cell_type": "code",
   "execution_count": null,
   "metadata": {},
   "outputs": [],
   "source": []
  },
  {
   "cell_type": "markdown",
   "metadata": {},
   "source": [
    "### STEP 3 : Model Architecture \n",
    "\n",
    "\n",
    "###### Input : 4 \n",
    "###### 1 hidden Layer : 8 nodes\n",
    "###### Output : 3"
   ]
  },
  {
   "cell_type": "code",
   "execution_count": 20,
   "metadata": {},
   "outputs": [],
   "source": [
    "model = tf.keras.Sequential([\n",
    "  tf.keras.layers.Dense(52, activation='relu', input_shape=(4,)),\n",
    "  tf.keras.layers.Dense(27, activation=\"relu\"),\n",
    "  tf.keras.layers.Dense(9 , activation=\"relu\"),\n",
    "  tf.keras.layers.Dense(3 , activation=\"sigmoid\")\n",
    "])"
   ]
  },
  {
   "cell_type": "markdown",
   "metadata": {},
   "source": [
    "### STEP 4 : Compilation Step "
   ]
  },
  {
   "cell_type": "code",
   "execution_count": 21,
   "metadata": {},
   "outputs": [],
   "source": [
    "model.compile(optimizer='adam',\n",
    "              loss='sparse_categorical_crossentropy',\n",
    "              metrics=['accuracy'])"
   ]
  },
  {
   "cell_type": "code",
   "execution_count": 22,
   "metadata": {},
   "outputs": [
    {
     "name": "stdout",
     "output_type": "stream",
     "text": [
      "Train on 60 samples, validate on 45 samples\n",
      "Epoch 1/100\n",
      "60/60 [==============================] - 1s 21ms/sample - loss: 1.0480 - accuracy: 0.2667 - val_loss: 1.0273 - val_accuracy: 0.3333\n",
      "Epoch 2/100\n",
      "60/60 [==============================] - 0s 1ms/sample - loss: 0.9996 - accuracy: 0.2667 - val_loss: 1.0010 - val_accuracy: 0.3333\n",
      "Epoch 3/100\n",
      "60/60 [==============================] - 0s 1ms/sample - loss: 0.9733 - accuracy: 0.2833 - val_loss: 0.9784 - val_accuracy: 0.3778\n",
      "Epoch 4/100\n",
      "60/60 [==============================] - 0s 1ms/sample - loss: 0.9491 - accuracy: 0.5167 - val_loss: 0.9569 - val_accuracy: 0.5111\n",
      "Epoch 5/100\n",
      "60/60 [==============================] - 0s 1ms/sample - loss: 0.9208 - accuracy: 0.6333 - val_loss: 0.9393 - val_accuracy: 0.2889\n",
      "Epoch 6/100\n",
      "60/60 [==============================] - 0s 1ms/sample - loss: 0.9018 - accuracy: 0.5500 - val_loss: 0.9224 - val_accuracy: 0.2667\n",
      "Epoch 7/100\n",
      "60/60 [==============================] - 0s 1ms/sample - loss: 0.8824 - accuracy: 0.4667 - val_loss: 0.9044 - val_accuracy: 0.2667\n",
      "Epoch 8/100\n",
      "60/60 [==============================] - 0s 1ms/sample - loss: 0.8639 - accuracy: 0.5500 - val_loss: 0.8868 - val_accuracy: 0.4667\n",
      "Epoch 9/100\n",
      "60/60 [==============================] - 0s 1ms/sample - loss: 0.8453 - accuracy: 0.6667 - val_loss: 0.8663 - val_accuracy: 0.6444\n",
      "Epoch 10/100\n",
      "60/60 [==============================] - 0s 2ms/sample - loss: 0.8270 - accuracy: 0.7667 - val_loss: 0.8441 - val_accuracy: 0.7111\n",
      "Epoch 11/100\n",
      "60/60 [==============================] - 0s 1ms/sample - loss: 0.8077 - accuracy: 0.8833 - val_loss: 0.8223 - val_accuracy: 0.7333\n",
      "Epoch 12/100\n",
      "60/60 [==============================] - 0s 1ms/sample - loss: 0.7886 - accuracy: 0.9167 - val_loss: 0.8018 - val_accuracy: 0.7333\n",
      "Epoch 13/100\n",
      "60/60 [==============================] - 0s 1ms/sample - loss: 0.7674 - accuracy: 0.9333 - val_loss: 0.7827 - val_accuracy: 0.7333\n",
      "Epoch 14/100\n",
      "60/60 [==============================] - 0s 1ms/sample - loss: 0.7484 - accuracy: 0.9167 - val_loss: 0.7652 - val_accuracy: 0.7111\n",
      "Epoch 15/100\n",
      "60/60 [==============================] - 0s 1ms/sample - loss: 0.7288 - accuracy: 0.9000 - val_loss: 0.7502 - val_accuracy: 0.7111\n",
      "Epoch 16/100\n",
      "60/60 [==============================] - 0s 1ms/sample - loss: 0.7103 - accuracy: 0.8833 - val_loss: 0.7358 - val_accuracy: 0.6889\n",
      "Epoch 17/100\n",
      "60/60 [==============================] - 0s 2ms/sample - loss: 0.6916 - accuracy: 0.8333 - val_loss: 0.7204 - val_accuracy: 0.6889\n",
      "Epoch 18/100\n",
      "60/60 [==============================] - 0s 1ms/sample - loss: 0.6725 - accuracy: 0.8333 - val_loss: 0.7042 - val_accuracy: 0.6889\n",
      "Epoch 19/100\n",
      "60/60 [==============================] - 0s 1ms/sample - loss: 0.6546 - accuracy: 0.8333 - val_loss: 0.6878 - val_accuracy: 0.6889\n",
      "Epoch 20/100\n",
      "60/60 [==============================] - 0s 1ms/sample - loss: 0.6374 - accuracy: 0.8333 - val_loss: 0.6734 - val_accuracy: 0.6889\n",
      "Epoch 21/100\n",
      "60/60 [==============================] - 0s 1ms/sample - loss: 0.6216 - accuracy: 0.8000 - val_loss: 0.6609 - val_accuracy: 0.6889\n",
      "Epoch 22/100\n",
      "60/60 [==============================] - 0s 1ms/sample - loss: 0.6048 - accuracy: 0.8333 - val_loss: 0.6466 - val_accuracy: 0.6889\n",
      "Epoch 23/100\n",
      "60/60 [==============================] - 0s 1ms/sample - loss: 0.5896 - accuracy: 0.8333 - val_loss: 0.6334 - val_accuracy: 0.6889\n",
      "Epoch 24/100\n",
      "60/60 [==============================] - 0s 1ms/sample - loss: 0.5739 - accuracy: 0.8333 - val_loss: 0.6186 - val_accuracy: 0.6889\n",
      "Epoch 25/100\n",
      "60/60 [==============================] - 0s 1ms/sample - loss: 0.5580 - accuracy: 0.8500 - val_loss: 0.6054 - val_accuracy: 0.6889\n",
      "Epoch 26/100\n",
      "60/60 [==============================] - 0s 1ms/sample - loss: 0.5437 - accuracy: 0.8333 - val_loss: 0.5937 - val_accuracy: 0.6889\n",
      "Epoch 27/100\n",
      "60/60 [==============================] - 0s 1ms/sample - loss: 0.5290 - accuracy: 0.8500 - val_loss: 0.5813 - val_accuracy: 0.6889\n",
      "Epoch 28/100\n",
      "60/60 [==============================] - 0s 1ms/sample - loss: 0.5149 - accuracy: 0.8667 - val_loss: 0.5678 - val_accuracy: 0.6889\n",
      "Epoch 29/100\n",
      "60/60 [==============================] - 0s 1ms/sample - loss: 0.5011 - accuracy: 0.8833 - val_loss: 0.5548 - val_accuracy: 0.6889\n",
      "Epoch 30/100\n",
      "60/60 [==============================] - 0s 1ms/sample - loss: 0.4881 - accuracy: 0.9000 - val_loss: 0.5430 - val_accuracy: 0.7111\n",
      "Epoch 31/100\n",
      "60/60 [==============================] - 0s 2ms/sample - loss: 0.4757 - accuracy: 0.9000 - val_loss: 0.5312 - val_accuracy: 0.7111\n",
      "Epoch 32/100\n",
      "60/60 [==============================] - 0s 2ms/sample - loss: 0.4632 - accuracy: 0.9000 - val_loss: 0.5244 - val_accuracy: 0.6889\n",
      "Epoch 33/100\n",
      "60/60 [==============================] - 0s 1ms/sample - loss: 0.4517 - accuracy: 0.8667 - val_loss: 0.5154 - val_accuracy: 0.6889\n",
      "Epoch 34/100\n",
      "60/60 [==============================] - 0s 1ms/sample - loss: 0.4388 - accuracy: 0.9000 - val_loss: 0.4998 - val_accuracy: 0.7111\n",
      "Epoch 35/100\n",
      "60/60 [==============================] - 0s 1ms/sample - loss: 0.4271 - accuracy: 0.9167 - val_loss: 0.4846 - val_accuracy: 0.7333\n",
      "Epoch 36/100\n",
      "60/60 [==============================] - 0s 1ms/sample - loss: 0.4163 - accuracy: 0.9333 - val_loss: 0.4698 - val_accuracy: 0.7556\n",
      "Epoch 37/100\n",
      "60/60 [==============================] - 0s 1ms/sample - loss: 0.4054 - accuracy: 0.9333 - val_loss: 0.4593 - val_accuracy: 0.7556\n",
      "Epoch 38/100\n",
      "60/60 [==============================] - 0s 1ms/sample - loss: 0.3946 - accuracy: 0.9333 - val_loss: 0.4530 - val_accuracy: 0.7556\n",
      "Epoch 39/100\n",
      "60/60 [==============================] - 0s 1ms/sample - loss: 0.3841 - accuracy: 0.9333 - val_loss: 0.4459 - val_accuracy: 0.7556\n",
      "Epoch 40/100\n",
      "60/60 [==============================] - 0s 1ms/sample - loss: 0.3746 - accuracy: 0.9333 - val_loss: 0.4371 - val_accuracy: 0.7556\n",
      "Epoch 41/100\n",
      "60/60 [==============================] - 0s 1ms/sample - loss: 0.3647 - accuracy: 0.9333 - val_loss: 0.4252 - val_accuracy: 0.7556\n",
      "Epoch 42/100\n",
      "60/60 [==============================] - 0s 1ms/sample - loss: 0.3549 - accuracy: 0.9333 - val_loss: 0.4104 - val_accuracy: 0.7778\n",
      "Epoch 43/100\n",
      "60/60 [==============================] - 0s 1ms/sample - loss: 0.3468 - accuracy: 0.9333 - val_loss: 0.3956 - val_accuracy: 0.8667\n",
      "Epoch 44/100\n",
      "60/60 [==============================] - 0s 1ms/sample - loss: 0.3383 - accuracy: 0.9667 - val_loss: 0.3870 - val_accuracy: 0.8667\n",
      "Epoch 45/100\n",
      "60/60 [==============================] - 0s 1ms/sample - loss: 0.3291 - accuracy: 0.9667 - val_loss: 0.3849 - val_accuracy: 0.8000\n",
      "Epoch 46/100\n",
      "60/60 [==============================] - 0s 1ms/sample - loss: 0.3194 - accuracy: 0.9667 - val_loss: 0.3811 - val_accuracy: 0.7778\n",
      "Epoch 47/100\n",
      "60/60 [==============================] - 0s 1ms/sample - loss: 0.3111 - accuracy: 0.9333 - val_loss: 0.3749 - val_accuracy: 0.7778\n",
      "Epoch 48/100\n",
      "60/60 [==============================] - 0s 1ms/sample - loss: 0.3036 - accuracy: 0.9667 - val_loss: 0.3658 - val_accuracy: 0.8000\n",
      "Epoch 49/100\n",
      "60/60 [==============================] - 0s 1ms/sample - loss: 0.2949 - accuracy: 0.9667 - val_loss: 0.3513 - val_accuracy: 0.8667\n",
      "Epoch 50/100\n",
      "60/60 [==============================] - 0s 1ms/sample - loss: 0.2874 - accuracy: 0.9667 - val_loss: 0.3342 - val_accuracy: 0.9556\n",
      "Epoch 51/100\n",
      "60/60 [==============================] - 0s 1ms/sample - loss: 0.2805 - accuracy: 0.9667 - val_loss: 0.3259 - val_accuracy: 0.9556\n",
      "Epoch 52/100\n",
      "60/60 [==============================] - 0s 1ms/sample - loss: 0.2733 - accuracy: 0.9667 - val_loss: 0.3210 - val_accuracy: 0.9556\n",
      "Epoch 53/100\n",
      "60/60 [==============================] - 0s 1ms/sample - loss: 0.2671 - accuracy: 0.9667 - val_loss: 0.3262 - val_accuracy: 0.8667\n",
      "Epoch 54/100\n",
      "60/60 [==============================] - 0s 1ms/sample - loss: 0.2600 - accuracy: 0.9667 - val_loss: 0.3238 - val_accuracy: 0.8667\n",
      "Epoch 55/100\n",
      "60/60 [==============================] - 0s 1ms/sample - loss: 0.2522 - accuracy: 0.9667 - val_loss: 0.3099 - val_accuracy: 0.9333\n",
      "Epoch 56/100\n",
      "60/60 [==============================] - 0s 1ms/sample - loss: 0.2464 - accuracy: 0.9667 - val_loss: 0.2928 - val_accuracy: 0.9556\n",
      "Epoch 57/100\n"
     ]
    },
    {
     "name": "stdout",
     "output_type": "stream",
     "text": [
      "60/60 [==============================] - 0s 1ms/sample - loss: 0.2409 - accuracy: 0.9667 - val_loss: 0.2854 - val_accuracy: 0.9556\n",
      "Epoch 58/100\n",
      "60/60 [==============================] - 0s 1ms/sample - loss: 0.2337 - accuracy: 0.9667 - val_loss: 0.2909 - val_accuracy: 0.9556\n",
      "Epoch 59/100\n",
      "60/60 [==============================] - 0s 1ms/sample - loss: 0.2282 - accuracy: 0.9667 - val_loss: 0.2962 - val_accuracy: 0.9111\n",
      "Epoch 60/100\n",
      "60/60 [==============================] - 0s 1ms/sample - loss: 0.2223 - accuracy: 0.9667 - val_loss: 0.2885 - val_accuracy: 0.9556\n",
      "Epoch 61/100\n",
      "60/60 [==============================] - 0s 1ms/sample - loss: 0.2177 - accuracy: 0.9667 - val_loss: 0.2724 - val_accuracy: 0.9556\n",
      "Epoch 62/100\n",
      "60/60 [==============================] - 0s 1ms/sample - loss: 0.2116 - accuracy: 0.9667 - val_loss: 0.2681 - val_accuracy: 0.9556\n",
      "Epoch 63/100\n",
      "60/60 [==============================] - 0s 1000us/sample - loss: 0.2066 - accuracy: 0.9667 - val_loss: 0.2587 - val_accuracy: 0.9556\n",
      "Epoch 64/100\n",
      "60/60 [==============================] - 0s 1ms/sample - loss: 0.2017 - accuracy: 0.9667 - val_loss: 0.2595 - val_accuracy: 0.9556\n",
      "Epoch 65/100\n",
      "60/60 [==============================] - 0s 1ms/sample - loss: 0.1982 - accuracy: 0.9667 - val_loss: 0.2622 - val_accuracy: 0.9556\n",
      "Epoch 66/100\n",
      "60/60 [==============================] - 0s 1ms/sample - loss: 0.1938 - accuracy: 0.9667 - val_loss: 0.2582 - val_accuracy: 0.9556\n",
      "Epoch 67/100\n",
      "60/60 [==============================] - 0s 1ms/sample - loss: 0.1899 - accuracy: 0.9667 - val_loss: 0.2405 - val_accuracy: 0.9556\n",
      "Epoch 68/100\n",
      "60/60 [==============================] - 0s 1000us/sample - loss: 0.1840 - accuracy: 0.9667 - val_loss: 0.2377 - val_accuracy: 0.9556\n",
      "Epoch 69/100\n",
      "60/60 [==============================] - 0s 1ms/sample - loss: 0.1796 - accuracy: 0.9667 - val_loss: 0.2420 - val_accuracy: 0.9556\n",
      "Epoch 70/100\n",
      "60/60 [==============================] - 0s 1ms/sample - loss: 0.1752 - accuracy: 0.9667 - val_loss: 0.2431 - val_accuracy: 0.9556\n",
      "Epoch 71/100\n",
      "60/60 [==============================] - 0s 1ms/sample - loss: 0.1724 - accuracy: 0.9667 - val_loss: 0.2400 - val_accuracy: 0.9556\n",
      "Epoch 72/100\n",
      "60/60 [==============================] - 0s 1ms/sample - loss: 0.1688 - accuracy: 0.9667 - val_loss: 0.2422 - val_accuracy: 0.9556\n",
      "Epoch 73/100\n",
      "60/60 [==============================] - 0s 1ms/sample - loss: 0.1646 - accuracy: 0.9667 - val_loss: 0.2311 - val_accuracy: 0.9556\n",
      "Epoch 74/100\n",
      "60/60 [==============================] - 0s 1ms/sample - loss: 0.1616 - accuracy: 0.9667 - val_loss: 0.2180 - val_accuracy: 0.9556\n",
      "Epoch 75/100\n",
      "60/60 [==============================] - 0s 2ms/sample - loss: 0.1600 - accuracy: 0.9667 - val_loss: 0.2121 - val_accuracy: 0.9556\n",
      "Epoch 76/100\n",
      "60/60 [==============================] - 0s 2ms/sample - loss: 0.1558 - accuracy: 0.9667 - val_loss: 0.2166 - val_accuracy: 0.9556\n",
      "Epoch 77/100\n",
      "60/60 [==============================] - 0s 2ms/sample - loss: 0.1504 - accuracy: 0.9667 - val_loss: 0.2309 - val_accuracy: 0.9556\n",
      "Epoch 78/100\n",
      "60/60 [==============================] - 0s 2ms/sample - loss: 0.1500 - accuracy: 0.9667 - val_loss: 0.2361 - val_accuracy: 0.9556\n",
      "Epoch 79/100\n",
      "60/60 [==============================] - 0s 1ms/sample - loss: 0.1483 - accuracy: 0.9667 - val_loss: 0.2177 - val_accuracy: 0.9556\n",
      "Epoch 80/100\n",
      "60/60 [==============================] - 0s 1ms/sample - loss: 0.1424 - accuracy: 0.9667 - val_loss: 0.2076 - val_accuracy: 0.9556\n",
      "Epoch 81/100\n",
      "60/60 [==============================] - 0s 1ms/sample - loss: 0.1398 - accuracy: 0.9667 - val_loss: 0.1963 - val_accuracy: 0.9556\n",
      "Epoch 82/100\n",
      "60/60 [==============================] - 0s 1ms/sample - loss: 0.1379 - accuracy: 0.9667 - val_loss: 0.1957 - val_accuracy: 0.9556\n",
      "Epoch 83/100\n",
      "60/60 [==============================] - 0s 2ms/sample - loss: 0.1354 - accuracy: 0.9667 - val_loss: 0.2014 - val_accuracy: 0.9556\n",
      "Epoch 84/100\n",
      "60/60 [==============================] - 0s 1ms/sample - loss: 0.1330 - accuracy: 0.9667 - val_loss: 0.2071 - val_accuracy: 0.9556\n",
      "Epoch 85/100\n",
      "60/60 [==============================] - 0s 1ms/sample - loss: 0.1301 - accuracy: 0.9667 - val_loss: 0.2037 - val_accuracy: 0.9556\n",
      "Epoch 86/100\n",
      "60/60 [==============================] - 0s 1ms/sample - loss: 0.1275 - accuracy: 0.9667 - val_loss: 0.1961 - val_accuracy: 0.9556\n",
      "Epoch 87/100\n",
      "60/60 [==============================] - 0s 1ms/sample - loss: 0.1247 - accuracy: 0.9667 - val_loss: 0.1877 - val_accuracy: 0.9556\n",
      "Epoch 88/100\n",
      "60/60 [==============================] - 0s 1000us/sample - loss: 0.1231 - accuracy: 0.9667 - val_loss: 0.1821 - val_accuracy: 0.9556\n",
      "Epoch 89/100\n",
      "60/60 [==============================] - 0s 1ms/sample - loss: 0.1213 - accuracy: 0.9667 - val_loss: 0.1855 - val_accuracy: 0.9556\n",
      "Epoch 90/100\n",
      "60/60 [==============================] - 0s 1ms/sample - loss: 0.1200 - accuracy: 0.9667 - val_loss: 0.1929 - val_accuracy: 0.9556\n",
      "Epoch 91/100\n",
      "60/60 [==============================] - 0s 1ms/sample - loss: 0.1169 - accuracy: 0.9667 - val_loss: 0.1919 - val_accuracy: 0.9556\n",
      "Epoch 92/100\n",
      "60/60 [==============================] - 0s 1ms/sample - loss: 0.1152 - accuracy: 0.9667 - val_loss: 0.1819 - val_accuracy: 0.9556\n",
      "Epoch 93/100\n",
      "60/60 [==============================] - 0s 1ms/sample - loss: 0.1135 - accuracy: 0.9667 - val_loss: 0.1833 - val_accuracy: 0.9556\n",
      "Epoch 94/100\n",
      "60/60 [==============================] - 0s 2ms/sample - loss: 0.1116 - accuracy: 0.9667 - val_loss: 0.1761 - val_accuracy: 0.9556\n",
      "Epoch 95/100\n",
      "60/60 [==============================] - 0s 2ms/sample - loss: 0.1090 - accuracy: 0.9667 - val_loss: 0.1807 - val_accuracy: 0.9556\n",
      "Epoch 96/100\n",
      "60/60 [==============================] - 0s 2ms/sample - loss: 0.1069 - accuracy: 0.9667 - val_loss: 0.1811 - val_accuracy: 0.9556\n",
      "Epoch 97/100\n",
      "60/60 [==============================] - 0s 2ms/sample - loss: 0.1053 - accuracy: 0.9667 - val_loss: 0.1845 - val_accuracy: 0.9556\n",
      "Epoch 98/100\n",
      "60/60 [==============================] - 0s 2ms/sample - loss: 0.1042 - accuracy: 0.9667 - val_loss: 0.1826 - val_accuracy: 0.9556\n",
      "Epoch 99/100\n",
      "60/60 [==============================] - 0s 2ms/sample - loss: 0.1024 - accuracy: 0.9667 - val_loss: 0.1705 - val_accuracy: 0.9556\n",
      "Epoch 100/100\n",
      "60/60 [==============================] - 0s 2ms/sample - loss: 0.1011 - accuracy: 0.9833 - val_loss: 0.1662 - val_accuracy: 0.9556\n"
     ]
    }
   ],
   "source": [
    "epoch = 100\n",
    "history = model.fit(x_train, y_train, epochs=epoch,validation_data=(x_val,y_val))\n",
    "loss = history.history[\"loss\"]\n",
    "val_loss = history.history[\"val_loss\"]\n",
    "acc = history.history[\"accuracy\"]"
   ]
  },
  {
   "cell_type": "code",
   "execution_count": 23,
   "metadata": {},
   "outputs": [
    {
     "data": {
      "image/png": "[encoded data removed]",
      "text/plain": [
       "<Figure size 432x288 with 1 Axes>"
      ]
     },
     "metadata": {
      "needs_background": "light"
     },
     "output_type": "display_data"
    },
    {
     "data": {
      "image/png": "[encoded data removed]",
      "text/plain": [
       "<Figure size 432x288 with 1 Axes>"
      ]
     },
     "metadata": {
      "needs_background": "light"
     },
     "output_type": "display_data"
    }
   ],
   "source": [
    "# for loss\n",
    " \n",
    "epochs = range(1, len(acc)+1)\n",
    "plt.plot(epochs,loss,\"bo\",label = \"Training_loss\")\n",
    "plt.plot(epochs,val_loss,\"b\",label = \"validation_loss\")\n",
    "plt.xlabel(\"epochs\")\n",
    "plt.ylabel(\"Loss\")\n",
    "plt.legend()\n",
    "plt.show()\n",
    "\n",
    "# for accuracy\n",
    " \n",
    "val_acc = history.history[\"val_accuracy\"]\n",
    "epochs = range(1, len(acc)+1)\n",
    "plt.plot(epochs,acc,\"bo\",label = \"Training_acc\")\n",
    "plt.plot(epochs,val_acc,\"b\",label = \"validation_acc\")\n",
    "plt.xlabel(\"epochs\")\n",
    "plt.ylabel(\"accuracy\")\n",
    "plt.legend()\n",
    "plt.show()"
   ]
  },
  {
   "cell_type": "markdown",
   "metadata": {},
   "source": [
    "### STEP 5 : Evaluation "
   ]
  },
  {
   "cell_type": "code",
   "execution_count": 24,
   "metadata": {},
   "outputs": [
    {
     "name": "stdout",
     "output_type": "stream",
     "text": [
      "45/1 - 0s - loss: 0.1519 - accuracy: 0.9778\n"
     ]
    }
   ],
   "source": [
    "loss , accuracy = model.evaluate(x_test,  y_test, verbose=2)    "
   ]
  },
  {
   "cell_type": "markdown",
   "metadata": {},
   "source": [
    "### STEP 6 : Prediction "
   ]
  },
  {
   "cell_type": "code",
   "execution_count": 30,
   "metadata": {},
   "outputs": [
    {
     "name": "stdout",
     "output_type": "stream",
     "text": [
      "[2 1 1 2 1 1 2 1 2 1 0 0 1 1 0 0 2 2 2 1 0 2 2 0 1 2 1 1 1 0 1 0 1 2 0 1 1\n",
      " 2 0 0 2 2 1 2 2]\n",
      "[2 1 1 2 1 1 2 1 2 1 0 0 1 1 0 0 2 2 2 1 0 2 2 0 1 2 1 1 1 0 1 0 1 2 0 1 1\n",
      " 2 0 0 2 2 1 1 2]\n"
     ]
    },
    {
     "data": {
      "text/plain": [
       "'pred = int(prediction)\\nprint(f\"Predicted Encoded label: {pred}\")\\n\\ns = {0:\"Setosa\",1:\"Versicolor\",2:\"verginica\"}\\n\\n\\nif pred == 0:\\n    print(\"Flower specie is: \",s[0])\\nelif pred == 1:\\n    print(\"Flower specie is: \",s[1])\\nelif pred == 2:\\n    print(\"Flower specie is: \",s[2])\\nelse:\\n    print(\"There is error in your code!!!\")'"
      ]
     },
     "execution_count": 30,
     "metadata": {},
     "output_type": "execute_result"
    }
   ],
   "source": [
    "new_data = np.array([[4.0,4.9,1.0,4.2]])\n",
    "prediction = model.predict_classes(x_test)\n",
    "print(prediction)\n",
    "print(y_test)\n",
    "'''pred = int(prediction)\n",
    "print(f\"Predicted Encoded label: {pred}\")\n",
    "\n",
    "s = {0:\"Setosa\",1:\"Versicolor\",2:\"verginica\"}\n",
    "\n",
    "\n",
    "if pred == 0:\n",
    "    print(\"Flower specie is: \",s[0])\n",
    "elif pred == 1:\n",
    "    print(\"Flower specie is: \",s[1])\n",
    "elif pred == 2:\n",
    "    print(\"Flower specie is: \",s[2])\n",
    "else:\n",
    "    print(\"There is error in your code!!!\")'''"
   ]
  },
  {
   "cell_type": "code",
   "execution_count": null,
   "metadata": {},
   "outputs": [],
   "source": []
  }
 ],
 "metadata": {
  "kernelspec": {
   "display_name": "Python [conda env:root] *",
   "language": "python",
   "name": "conda-root-py"
  },
  "language_info": {
   "codemirror_mode": {
    "name": "ipython",
    "version": 3
   },
   "file_extension": ".py",
   "mimetype": "text/x-python",
   "name": "python",
   "nbconvert_exporter": "python",
   "pygments_lexer": "ipython3",
   "version": "3.7.3"
  }
 },
 "nbformat": 4,
 "nbformat_minor": 2
}
