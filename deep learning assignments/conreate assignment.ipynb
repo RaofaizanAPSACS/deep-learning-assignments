{
 "cells": [
  {
   "cell_type": "markdown",
   "metadata": {},
   "source": [
    "# Regression problem"
   ]
  },
  {
   "cell_type": "code",
   "execution_count": null,
   "metadata": {},
   "outputs": [],
   "source": [
    "import pandas as pd \n",
    "import numpy as np\n",
    "import tensorflow as tf\n",
    "from sklearn import preprocessing"
   ]
  },
  {
   "cell_type": "markdown",
   "metadata": {},
   "source": [
    "# Data preprocessing"
   ]
  },
  {
   "cell_type": "code",
   "execution_count": 103,
   "metadata": {
    "scrolled": true
   },
   "outputs": [
    {
     "name": "stdout",
     "output_type": "stream",
     "text": [
      "(1030, 9)\n"
     ]
    },
    {
     "data": {
      "text/html": [
       "<div>\n",
       "<style scoped>\n",
       "    .dataframe tbody tr th:only-of-type {\n",
       "        vertical-align: middle;\n",
       "    }\n",
       "\n",
       "    .dataframe tbody tr th {\n",
       "        vertical-align: top;\n",
       "    }\n",
       "\n",
       "    .dataframe thead th {\n",
       "        text-align: right;\n",
       "    }\n",
       "</style>\n",
       "<table border=\"1\" class=\"dataframe\">\n",
       "  <thead>\n",
       "    <tr style=\"text-align: right;\">\n",
       "      <th></th>\n",
       "      <th>Cement (component 1)(kg in a m^3 mixture)</th>\n",
       "      <th>Blast Furnace Slag (component 2)(kg in a m^3 mixture)</th>\n",
       "      <th>Fly Ash (component 3)(kg in a m^3 mixture)</th>\n",
       "      <th>Water  (component 4)(kg in a m^3 mixture)</th>\n",
       "      <th>Superplasticizer (component 5)(kg in a m^3 mixture)</th>\n",
       "      <th>Coarse Aggregate  (component 6)(kg in a m^3 mixture)</th>\n",
       "      <th>Fine Aggregate (component 7)(kg in a m^3 mixture)</th>\n",
       "      <th>Age (day)</th>\n",
       "      <th>Concrete compressive strength(MPa, megapascals)</th>\n",
       "    </tr>\n",
       "  </thead>\n",
       "  <tbody>\n",
       "    <tr>\n",
       "      <th>0</th>\n",
       "      <td>540.0</td>\n",
       "      <td>0.0</td>\n",
       "      <td>0.0</td>\n",
       "      <td>162.0</td>\n",
       "      <td>2.5</td>\n",
       "      <td>1040.0</td>\n",
       "      <td>676.0</td>\n",
       "      <td>28</td>\n",
       "      <td>79.99</td>\n",
       "    </tr>\n",
       "    <tr>\n",
       "      <th>1</th>\n",
       "      <td>540.0</td>\n",
       "      <td>0.0</td>\n",
       "      <td>0.0</td>\n",
       "      <td>162.0</td>\n",
       "      <td>2.5</td>\n",
       "      <td>1055.0</td>\n",
       "      <td>676.0</td>\n",
       "      <td>28</td>\n",
       "      <td>61.89</td>\n",
       "    </tr>\n",
       "    <tr>\n",
       "      <th>2</th>\n",
       "      <td>332.5</td>\n",
       "      <td>142.5</td>\n",
       "      <td>0.0</td>\n",
       "      <td>228.0</td>\n",
       "      <td>0.0</td>\n",
       "      <td>932.0</td>\n",
       "      <td>594.0</td>\n",
       "      <td>270</td>\n",
       "      <td>40.27</td>\n",
       "    </tr>\n",
       "    <tr>\n",
       "      <th>3</th>\n",
       "      <td>332.5</td>\n",
       "      <td>142.5</td>\n",
       "      <td>0.0</td>\n",
       "      <td>228.0</td>\n",
       "      <td>0.0</td>\n",
       "      <td>932.0</td>\n",
       "      <td>594.0</td>\n",
       "      <td>365</td>\n",
       "      <td>41.05</td>\n",
       "    </tr>\n",
       "    <tr>\n",
       "      <th>4</th>\n",
       "      <td>198.6</td>\n",
       "      <td>132.4</td>\n",
       "      <td>0.0</td>\n",
       "      <td>192.0</td>\n",
       "      <td>0.0</td>\n",
       "      <td>978.4</td>\n",
       "      <td>825.5</td>\n",
       "      <td>360</td>\n",
       "      <td>44.30</td>\n",
       "    </tr>\n",
       "  </tbody>\n",
       "</table>\n",
       "</div>"
      ],
      "text/plain": [
       "   Cement (component 1)(kg in a m^3 mixture)  \\\n",
       "0                                      540.0   \n",
       "1                                      540.0   \n",
       "2                                      332.5   \n",
       "3                                      332.5   \n",
       "4                                      198.6   \n",
       "\n",
       "   Blast Furnace Slag (component 2)(kg in a m^3 mixture)  \\\n",
       "0                                                0.0       \n",
       "1                                                0.0       \n",
       "2                                              142.5       \n",
       "3                                              142.5       \n",
       "4                                              132.4       \n",
       "\n",
       "   Fly Ash (component 3)(kg in a m^3 mixture)  \\\n",
       "0                                         0.0   \n",
       "1                                         0.0   \n",
       "2                                         0.0   \n",
       "3                                         0.0   \n",
       "4                                         0.0   \n",
       "\n",
       "   Water  (component 4)(kg in a m^3 mixture)  \\\n",
       "0                                      162.0   \n",
       "1                                      162.0   \n",
       "2                                      228.0   \n",
       "3                                      228.0   \n",
       "4                                      192.0   \n",
       "\n",
       "   Superplasticizer (component 5)(kg in a m^3 mixture)  \\\n",
       "0                                                2.5     \n",
       "1                                                2.5     \n",
       "2                                                0.0     \n",
       "3                                                0.0     \n",
       "4                                                0.0     \n",
       "\n",
       "   Coarse Aggregate  (component 6)(kg in a m^3 mixture)  \\\n",
       "0                                             1040.0      \n",
       "1                                             1055.0      \n",
       "2                                              932.0      \n",
       "3                                              932.0      \n",
       "4                                              978.4      \n",
       "\n",
       "   Fine Aggregate (component 7)(kg in a m^3 mixture)  Age (day)  \\\n",
       "0                                              676.0         28   \n",
       "1                                              676.0         28   \n",
       "2                                              594.0        270   \n",
       "3                                              594.0        365   \n",
       "4                                              825.5        360   \n",
       "\n",
       "   Concrete compressive strength(MPa, megapascals)   \n",
       "0                                             79.99  \n",
       "1                                             61.89  \n",
       "2                                             40.27  \n",
       "3                                             41.05  \n",
       "4                                             44.30  "
      ]
     },
     "execution_count": 103,
     "metadata": {},
     "output_type": "execute_result"
    }
   ],
   "source": [
    "# loading data\n",
    "data = pd.read_csv(\"compresive_strength_concrete.csv\")\n",
    "print(data.shape)\n",
    "data.head()"
   ]
  },
  {
   "cell_type": "code",
   "execution_count": 120,
   "metadata": {},
   "outputs": [],
   "source": [
    "# shuffling data\n",
    "data = data.sample(frac=1)"
   ]
  },
  {
   "cell_type": "code",
   "execution_count": 121,
   "metadata": {},
   "outputs": [],
   "source": [
    "feature = data.iloc[:,:8].values\n",
    "label = data.iloc[:,8:].values\n",
    "# normalizing\n",
    "mean = feature.mean(axis=0)\n",
    "feature -= mean\n",
    "std = label.std(axis=0)\n",
    "label /= std\n",
    "\n",
    "x_train = feature[:600]\n",
    "y_train = label[:600]\n",
    "x_test = feature[600:950]\n",
    "y_test = label[600:950]\n",
    "x_val = feature[950:]\n",
    "y_val = label[950:]"
   ]
  },
  {
   "cell_type": "markdown",
   "metadata": {},
   "source": [
    "# K-Fold cross validation"
   ]
  },
  {
   "cell_type": "code",
   "execution_count": 122,
   "metadata": {},
   "outputs": [
    {
     "name": "stdout",
     "output_type": "stream",
     "text": [
      "processing fold :  0\n",
      "Train on 773 samples, validate on 257 samples\n",
      "Epoch 1/25\n",
      "773/773 [==============================] - 2s 2ms/sample - loss: 31.5869 - mae: 2.5878 - val_loss: 4.6955 - val_mae: 1.6816\n",
      "Epoch 2/25\n",
      "773/773 [==============================] - 0s 233us/sample - loss: 1.2967 - mae: 0.8282 - val_loss: 1.2025 - val_mae: 0.8098\n",
      "Epoch 3/25\n",
      "773/773 [==============================] - 0s 241us/sample - loss: 2.1073 - mae: 1.0952 - val_loss: 0.8278 - val_mae: 0.7229\n",
      "Epoch 4/25\n",
      "773/773 [==============================] - 0s 233us/sample - loss: 1.2959 - mae: 0.8227 - val_loss: 0.6164 - val_mae: 0.5604\n",
      "Epoch 5/25\n",
      "773/773 [==============================] - 0s 237us/sample - loss: 0.8719 - mae: 0.6939 - val_loss: 0.6804 - val_mae: 0.6373\n",
      "Epoch 6/25\n",
      "773/773 [==============================] - 0s 265us/sample - loss: 0.9135 - mae: 0.7049 - val_loss: 0.7188 - val_mae: 0.6511\n",
      "Epoch 7/25\n",
      "773/773 [==============================] - 0s 235us/sample - loss: 0.6231 - mae: 0.6144 - val_loss: 0.7792 - val_mae: 0.6779\n",
      "Epoch 8/25\n",
      "773/773 [==============================] - 0s 236us/sample - loss: 0.5187 - mae: 0.5540 - val_loss: 0.4421 - val_mae: 0.5307\n",
      "Epoch 9/25\n",
      "773/773 [==============================] - 0s 262us/sample - loss: 0.5036 - mae: 0.5606 - val_loss: 0.5522 - val_mae: 0.5770\n",
      "Epoch 10/25\n",
      "773/773 [==============================] - 0s 259us/sample - loss: 0.5792 - mae: 0.5683 - val_loss: 0.4514 - val_mae: 0.5206\n",
      "Epoch 11/25\n",
      "773/773 [==============================] - 0s 214us/sample - loss: 0.3559 - mae: 0.4687 - val_loss: 1.0205 - val_mae: 0.6636\n",
      "Epoch 12/25\n",
      "773/773 [==============================] - 0s 236us/sample - loss: 0.4408 - mae: 0.5091 - val_loss: 0.4024 - val_mae: 0.4871\n",
      "Epoch 13/25\n",
      "773/773 [==============================] - 0s 239us/sample - loss: 0.3597 - mae: 0.4654 - val_loss: 0.5278 - val_mae: 0.5496\n",
      "Epoch 14/25\n",
      "773/773 [==============================] - 0s 243us/sample - loss: 0.3456 - mae: 0.4481 - val_loss: 0.3247 - val_mae: 0.4427\n",
      "Epoch 15/25\n",
      "773/773 [==============================] - 0s 234us/sample - loss: 0.3457 - mae: 0.4331 - val_loss: 0.4032 - val_mae: 0.4548\n",
      "Epoch 16/25\n",
      "773/773 [==============================] - 0s 237us/sample - loss: 0.3440 - mae: 0.4557 - val_loss: 0.3113 - val_mae: 0.4179\n",
      "Epoch 17/25\n",
      "773/773 [==============================] - 0s 268us/sample - loss: 0.2689 - mae: 0.3844 - val_loss: 0.4849 - val_mae: 0.5080\n",
      "Epoch 18/25\n",
      "773/773 [==============================] - 0s 277us/sample - loss: 0.3181 - mae: 0.4358 - val_loss: 0.2441 - val_mae: 0.3813\n",
      "Epoch 19/25\n",
      "773/773 [==============================] - 0s 311us/sample - loss: 0.2857 - mae: 0.4074 - val_loss: 0.3596 - val_mae: 0.4254\n",
      "Epoch 20/25\n",
      "773/773 [==============================] - 0s 300us/sample - loss: 0.2642 - mae: 0.3923 - val_loss: 0.4563 - val_mae: 0.5315\n",
      "Epoch 21/25\n",
      "773/773 [==============================] - 0s 357us/sample - loss: 0.2337 - mae: 0.3665 - val_loss: 0.2658 - val_mae: 0.3896\n",
      "Epoch 22/25\n",
      "773/773 [==============================] - 0s 304us/sample - loss: 0.2542 - mae: 0.3884 - val_loss: 0.3384 - val_mae: 0.4163\n",
      "Epoch 23/25\n",
      "773/773 [==============================] - 0s 337us/sample - loss: 0.2282 - mae: 0.3692 - val_loss: 0.2721 - val_mae: 0.4012\n",
      "Epoch 24/25\n",
      "773/773 [==============================] - 0s 225us/sample - loss: 0.1948 - mae: 0.3249 - val_loss: 0.3398 - val_mae: 0.4291\n",
      "Epoch 25/25\n",
      "773/773 [==============================] - 0s 264us/sample - loss: 0.2632 - mae: 0.3926 - val_loss: 0.3111 - val_mae: 0.4380\n",
      "257/1 - 0s - loss: 0.1565 - mae: 0.4380\n",
      "processing fold :  1\n",
      "Train on 773 samples, validate on 257 samples\n",
      "Epoch 1/25\n",
      "773/773 [==============================] - 2s 3ms/sample - loss: 53.2773 - mae: 3.0269 - val_loss: 3.0851 - val_mae: 1.3591\n",
      "Epoch 2/25\n",
      "773/773 [==============================] - 0s 235us/sample - loss: 3.2579 - mae: 1.3021 - val_loss: 0.8383 - val_mae: 0.7119\n",
      "Epoch 3/25\n",
      "773/773 [==============================] - 0s 245us/sample - loss: 3.1848 - mae: 1.1949 - val_loss: 1.1139 - val_mae: 0.8103\n",
      "Epoch 4/25\n",
      "773/773 [==============================] - 0s 258us/sample - loss: 2.4456 - mae: 1.1683 - val_loss: 0.7320 - val_mae: 0.6574\n",
      "Epoch 5/25\n",
      "773/773 [==============================] - 0s 235us/sample - loss: 0.7887 - mae: 0.6934 - val_loss: 2.0189 - val_mae: 1.0941\n",
      "Epoch 6/25\n",
      "773/773 [==============================] - 0s 261us/sample - loss: 1.6917 - mae: 0.9052 - val_loss: 0.9420 - val_mae: 0.7653\n",
      "Epoch 7/25\n",
      "773/773 [==============================] - 0s 233us/sample - loss: 0.9543 - mae: 0.7115 - val_loss: 2.5951 - val_mae: 1.3337\n",
      "Epoch 8/25\n",
      "773/773 [==============================] - 0s 237us/sample - loss: 0.7033 - mae: 0.6369 - val_loss: 0.4201 - val_mae: 0.5189\n",
      "Epoch 9/25\n",
      "773/773 [==============================] - 0s 283us/sample - loss: 0.6967 - mae: 0.6308 - val_loss: 0.7143 - val_mae: 0.6429\n",
      "Epoch 10/25\n",
      "773/773 [==============================] - 0s 261us/sample - loss: 0.6972 - mae: 0.6225 - val_loss: 0.4725 - val_mae: 0.5287\n",
      "Epoch 11/25\n",
      "773/773 [==============================] - 0s 278us/sample - loss: 0.5329 - mae: 0.5501 - val_loss: 1.1026 - val_mae: 0.8612\n",
      "Epoch 12/25\n",
      "773/773 [==============================] - 0s 237us/sample - loss: 0.4780 - mae: 0.5235 - val_loss: 0.4751 - val_mae: 0.5412\n",
      "Epoch 13/25\n",
      "773/773 [==============================] - 0s 262us/sample - loss: 0.4183 - mae: 0.4909 - val_loss: 0.6534 - val_mae: 0.6128\n",
      "Epoch 14/25\n",
      "773/773 [==============================] - 0s 215us/sample - loss: 0.4682 - mae: 0.5242 - val_loss: 0.3385 - val_mae: 0.4494\n",
      "Epoch 15/25\n",
      "773/773 [==============================] - 0s 257us/sample - loss: 0.4094 - mae: 0.4890 - val_loss: 0.4358 - val_mae: 0.5333\n",
      "Epoch 16/25\n",
      "773/773 [==============================] - 0s 261us/sample - loss: 0.3475 - mae: 0.4506 - val_loss: 0.4167 - val_mae: 0.5084\n",
      "Epoch 17/25\n",
      "773/773 [==============================] - 0s 234us/sample - loss: 0.3522 - mae: 0.4551 - val_loss: 0.4022 - val_mae: 0.4899\n",
      "Epoch 18/25\n",
      "773/773 [==============================] - 0s 262us/sample - loss: 0.2657 - mae: 0.3910 - val_loss: 0.3121 - val_mae: 0.4255\n",
      "Epoch 19/25\n",
      "773/773 [==============================] - 0s 277us/sample - loss: 0.3702 - mae: 0.4718 - val_loss: 0.4220 - val_mae: 0.5032\n",
      "Epoch 20/25\n",
      "773/773 [==============================] - 0s 236us/sample - loss: 0.2779 - mae: 0.4084 - val_loss: 0.3674 - val_mae: 0.4864\n",
      "Epoch 21/25\n",
      "773/773 [==============================] - 0s 281us/sample - loss: 0.3332 - mae: 0.4325 - val_loss: 0.2589 - val_mae: 0.3991\n",
      "Epoch 22/25\n",
      "773/773 [==============================] - 0s 262us/sample - loss: 0.2485 - mae: 0.3758 - val_loss: 0.3336 - val_mae: 0.4661\n",
      "Epoch 23/25\n",
      "773/773 [==============================] - 0s 278us/sample - loss: 0.2265 - mae: 0.3595 - val_loss: 0.3069 - val_mae: 0.4190\n",
      "Epoch 24/25\n",
      "773/773 [==============================] - 0s 237us/sample - loss: 0.2964 - mae: 0.4087 - val_loss: 0.2056 - val_mae: 0.3383\n",
      "Epoch 25/25\n",
      "773/773 [==============================] - 0s 261us/sample - loss: 0.2277 - mae: 0.3611 - val_loss: 0.3693 - val_mae: 0.4432\n",
      "257/1 - 0s - loss: 0.5864 - mae: 0.4432\n",
      "processing fold :  2\n",
      "Train on 773 samples, validate on 257 samples\n",
      "Epoch 1/25\n",
      "773/773 [==============================] - 2s 2ms/sample - loss: 85.3614 - mae: 3.8521 - val_loss: 9.2975 - val_mae: 2.1909\n",
      "Epoch 2/25\n",
      "773/773 [==============================] - 0s 217us/sample - loss: 7.1228 - mae: 1.9993 - val_loss: 4.3292 - val_mae: 1.6793\n",
      "Epoch 3/25\n",
      "773/773 [==============================] - 0s 216us/sample - loss: 5.7988 - mae: 1.8073 - val_loss: 2.4898 - val_mae: 1.2902\n",
      "Epoch 4/25\n",
      "773/773 [==============================] - 0s 258us/sample - loss: 2.4281 - mae: 1.1508 - val_loss: 2.0189 - val_mae: 1.1047\n",
      "Epoch 5/25\n",
      "773/773 [==============================] - 0s 237us/sample - loss: 2.4745 - mae: 1.1374 - val_loss: 1.0794 - val_mae: 0.8320\n",
      "Epoch 6/25\n",
      "773/773 [==============================] - 0s 238us/sample - loss: 1.3763 - mae: 0.8899 - val_loss: 1.4450 - val_mae: 0.9329\n",
      "Epoch 7/25\n",
      "773/773 [==============================] - 0s 217us/sample - loss: 1.7152 - mae: 0.9374 - val_loss: 0.6036 - val_mae: 0.6097\n",
      "Epoch 8/25\n",
      "773/773 [==============================] - 0s 234us/sample - loss: 0.8629 - mae: 0.7179 - val_loss: 0.6953 - val_mae: 0.6398\n"
     ]
    },
    {
     "name": "stdout",
     "output_type": "stream",
     "text": [
      "Epoch 9/25\n",
      "773/773 [==============================] - 0s 238us/sample - loss: 1.0322 - mae: 0.7760 - val_loss: 0.9990 - val_mae: 0.7776\n",
      "Epoch 10/25\n",
      "773/773 [==============================] - 0s 216us/sample - loss: 0.6872 - mae: 0.6454 - val_loss: 1.1300 - val_mae: 0.8498\n",
      "Epoch 11/25\n",
      "773/773 [==============================] - 0s 217us/sample - loss: 0.8736 - mae: 0.7065 - val_loss: 1.1953 - val_mae: 0.7580\n",
      "Epoch 12/25\n",
      "773/773 [==============================] - 0s 216us/sample - loss: 0.6862 - mae: 0.6519 - val_loss: 0.6154 - val_mae: 0.5707\n",
      "Epoch 13/25\n",
      "773/773 [==============================] - 0s 215us/sample - loss: 0.5993 - mae: 0.6025 - val_loss: 0.6395 - val_mae: 0.6024\n",
      "Epoch 14/25\n",
      "773/773 [==============================] - 0s 196us/sample - loss: 0.4656 - mae: 0.5288 - val_loss: 0.7404 - val_mae: 0.6929\n",
      "Epoch 15/25\n",
      "773/773 [==============================] - 0s 214us/sample - loss: 0.4910 - mae: 0.5465 - val_loss: 0.5696 - val_mae: 0.5939\n",
      "Epoch 16/25\n",
      "773/773 [==============================] - 0s 217us/sample - loss: 0.5090 - mae: 0.5485 - val_loss: 0.6659 - val_mae: 0.6386\n",
      "Epoch 17/25\n",
      "773/773 [==============================] - 0s 217us/sample - loss: 0.3890 - mae: 0.4878 - val_loss: 0.4044 - val_mae: 0.4980\n",
      "Epoch 18/25\n",
      "773/773 [==============================] - 0s 217us/sample - loss: 0.3941 - mae: 0.4802 - val_loss: 0.4671 - val_mae: 0.5497\n",
      "Epoch 19/25\n",
      "773/773 [==============================] - 0s 216us/sample - loss: 0.3616 - mae: 0.4630 - val_loss: 0.3034 - val_mae: 0.4470\n",
      "Epoch 20/25\n",
      "773/773 [==============================] - 0s 215us/sample - loss: 0.4087 - mae: 0.4961 - val_loss: 0.4294 - val_mae: 0.4972\n",
      "Epoch 21/25\n",
      "773/773 [==============================] - 0s 217us/sample - loss: 0.3483 - mae: 0.4558 - val_loss: 0.6114 - val_mae: 0.6227\n",
      "Epoch 22/25\n",
      "773/773 [==============================] - 0s 216us/sample - loss: 0.2983 - mae: 0.4204 - val_loss: 0.3236 - val_mae: 0.4456\n",
      "Epoch 23/25\n",
      "773/773 [==============================] - 0s 215us/sample - loss: 0.3356 - mae: 0.4459 - val_loss: 0.3522 - val_mae: 0.4735\n",
      "Epoch 24/25\n",
      "773/773 [==============================] - 0s 217us/sample - loss: 0.3005 - mae: 0.4220 - val_loss: 0.4979 - val_mae: 0.5146\n",
      "Epoch 25/25\n",
      "773/773 [==============================] - 0s 236us/sample - loss: 0.2501 - mae: 0.3853 - val_loss: 0.8627 - val_mae: 0.7376\n",
      "257/1 - 0s - loss: 0.8852 - mae: 0.7376\n",
      "processing fold :  3\n",
      "Train on 773 samples, validate on 257 samples\n",
      "Epoch 1/25\n",
      "773/773 [==============================] - 2s 3ms/sample - loss: 56.9036 - mae: 3.3182 - val_loss: 3.6746 - val_mae: 1.3855\n",
      "Epoch 2/25\n",
      "773/773 [==============================] - 0s 235us/sample - loss: 4.8731 - mae: 1.6713 - val_loss: 1.4758 - val_mae: 0.8981\n",
      "Epoch 3/25\n",
      "773/773 [==============================] - 0s 216us/sample - loss: 4.6701 - mae: 1.4089 - val_loss: 2.6579 - val_mae: 1.2553\n",
      "Epoch 4/25\n",
      "773/773 [==============================] - 0s 236us/sample - loss: 1.8398 - mae: 0.9909 - val_loss: 1.4214 - val_mae: 0.9203\n",
      "Epoch 5/25\n",
      "773/773 [==============================] - 0s 217us/sample - loss: 2.2557 - mae: 1.0532 - val_loss: 0.9030 - val_mae: 0.6949\n",
      "Epoch 6/25\n",
      "773/773 [==============================] - 0s 279us/sample - loss: 1.0932 - mae: 0.7808 - val_loss: 1.7715 - val_mae: 0.9755\n",
      "Epoch 7/25\n",
      "773/773 [==============================] - 0s 236us/sample - loss: 0.8095 - mae: 0.6669 - val_loss: 0.9042 - val_mae: 0.6898\n",
      "Epoch 8/25\n",
      "773/773 [==============================] - 0s 236us/sample - loss: 1.0447 - mae: 0.7796 - val_loss: 0.9485 - val_mae: 0.7458\n",
      "Epoch 9/25\n",
      "773/773 [==============================] - 0s 218us/sample - loss: 0.7070 - mae: 0.6356 - val_loss: 1.3175 - val_mae: 0.9339\n",
      "Epoch 10/25\n",
      "773/773 [==============================] - 0s 236us/sample - loss: 0.6494 - mae: 0.6142 - val_loss: 0.4973 - val_mae: 0.5716\n",
      "Epoch 11/25\n",
      "773/773 [==============================] - 0s 259us/sample - loss: 0.6729 - mae: 0.6007 - val_loss: 0.6575 - val_mae: 0.5863\n",
      "Epoch 12/25\n",
      "773/773 [==============================] - 0s 238us/sample - loss: 0.5173 - mae: 0.5456 - val_loss: 0.6905 - val_mae: 0.6052\n",
      "Epoch 13/25\n",
      "773/773 [==============================] - 0s 236us/sample - loss: 0.4721 - mae: 0.5242 - val_loss: 0.5641 - val_mae: 0.5707\n",
      "Epoch 14/25\n",
      "773/773 [==============================] - 0s 217us/sample - loss: 0.4162 - mae: 0.4999 - val_loss: 0.7052 - val_mae: 0.6330\n",
      "Epoch 15/25\n",
      "773/773 [==============================] - 0s 259us/sample - loss: 0.4088 - mae: 0.4916 - val_loss: 0.5445 - val_mae: 0.5666\n",
      "Epoch 16/25\n",
      "773/773 [==============================] - 0s 262us/sample - loss: 0.3713 - mae: 0.4542 - val_loss: 0.8819 - val_mae: 0.6899\n",
      "Epoch 17/25\n",
      "773/773 [==============================] - 0s 234us/sample - loss: 0.3679 - mae: 0.4636 - val_loss: 0.7107 - val_mae: 0.6107\n",
      "Epoch 18/25\n",
      "773/773 [==============================] - 0s 257us/sample - loss: 0.5542 - mae: 0.5572 - val_loss: 0.3117 - val_mae: 0.4175\n",
      "Epoch 19/25\n",
      "773/773 [==============================] - 0s 239us/sample - loss: 0.2386 - mae: 0.3647 - val_loss: 0.3542 - val_mae: 0.4362\n",
      "Epoch 20/25\n",
      "773/773 [==============================] - 0s 258us/sample - loss: 0.3187 - mae: 0.4269 - val_loss: 0.3230 - val_mae: 0.4470\n",
      "Epoch 21/25\n",
      "773/773 [==============================] - 0s 217us/sample - loss: 0.3470 - mae: 0.4555 - val_loss: 0.4541 - val_mae: 0.4998\n",
      "Epoch 22/25\n",
      "773/773 [==============================] - 0s 255us/sample - loss: 0.3375 - mae: 0.4238 - val_loss: 0.2413 - val_mae: 0.3771\n",
      "Epoch 23/25\n",
      "773/773 [==============================] - 0s 239us/sample - loss: 0.2379 - mae: 0.3655 - val_loss: 0.5120 - val_mae: 0.5312\n",
      "Epoch 24/25\n",
      "773/773 [==============================] - 0s 236us/sample - loss: 0.2964 - mae: 0.4099 - val_loss: 0.2730 - val_mae: 0.4052\n",
      "Epoch 25/25\n",
      "773/773 [==============================] - 0s 263us/sample - loss: 0.2326 - mae: 0.3620 - val_loss: 0.2948 - val_mae: 0.3895\n",
      "257/1 - 0s - loss: 0.2425 - mae: 0.3895\n"
     ]
    }
   ],
   "source": [
    "k = 4\n",
    "num_samples = len(feature)//k\n",
    "scores = []\n",
    "\n",
    "for i in range(k):\n",
    "    print(\"processing fold : \",i)\n",
    "    val_x  = feature[i*num_samples:(i+1)*num_samples]\n",
    "    val_y  = label[i*num_samples:(i+1)*num_samples]\n",
    "    train_x  = np.concatenate([feature[:i*num_samples],feature[(i+1)*num_samples:]],axis=0)\n",
    "    train_y  = np.concatenate([label[:i*num_samples],label[(i+1)*num_samples:]],axis=0)\n",
    "    model = tf.keras.Sequential([\n",
    "      tf.keras.layers.Dense(512, activation='relu', input_shape=(8,)),# input shape required\n",
    "      tf.keras.layers.Dense(128, activation='relu'),\n",
    "      tf.keras.layers.Dense(64, activation='relu'),\n",
    "      tf.keras.layers.Dense(1)\n",
    "    ])\n",
    "    \n",
    "    \n",
    "    model.compile(optimizer='rmsprop',\n",
    "                  loss='mse',\n",
    "                  metrics=['mae'])\n",
    "    history = model.fit(train_x,train_y, epochs=25, batch_size=44 ,validation_data=(val_x,val_y))\n",
    "    loss,mae = model.evaluate(val_x,val_y, verbose=2)\n",
    "    scores.append(mae)\n",
    "    \n"
   ]
  },
  {
   "cell_type": "code",
   "execution_count": 123,
   "metadata": {},
   "outputs": [
    {
     "name": "stdout",
     "output_type": "stream",
     "text": [
      "0.50207895\n"
     ]
    }
   ],
   "source": [
    "# mean score of mae\n",
    "print(np.mean(scores))\n",
    "mae = history.history[\"mae\"]\n",
    "val_mae = history.history[\"val_mae\"]\n",
    "loss = history.history[\"loss\"]\n",
    "val_loss = history.history[\"val_loss\"]\n",
    "\n",
    "\n"
   ]
  },
  {
   "cell_type": "markdown",
   "metadata": {},
   "source": [
    "# Graphical analysis"
   ]
  },
  {
   "cell_type": "code",
   "execution_count": 124,
   "metadata": {},
   "outputs": [
    {
     "data": {
      "image/png": "[encoded data removed]",
      "text/plain": [
       "<Figure size 432x288 with 1 Axes>"
      ]
     },
     "metadata": {
      "needs_background": "light"
     },
     "output_type": "display_data"
    },
    {
     "data": {
      "image/png": "[encoded data removed]",
      "text/plain": [
       "<Figure size 432x288 with 1 Axes>"
      ]
     },
     "metadata": {
      "needs_background": "light"
     },
     "output_type": "display_data"
    }
   ],
   "source": [
    "import matplotlib.pyplot as plt\n",
    "# for loss\n",
    " \n",
    "epochs = range(1, len(mae)+1)\n",
    "plt.plot(epochs,loss,\"bo\",label = \"Training_loss\")\n",
    "plt.plot(epochs,val_loss,\"b\",label = \"validation_loss\")\n",
    "plt.xlabel(\"epochs\")\n",
    "plt.ylabel(\"Loss\")\n",
    "plt.title(\"Training and validation loss\")\n",
    "plt.legend()\n",
    "plt.show()\n",
    "\n",
    "# for mae\n",
    " \n",
    "epochs = range(1, len(mae)+1)\n",
    "plt.plot(epochs,mae,\"bo\",label = \"Training_mae\")\n",
    "plt.plot(epochs,val_mae,\"b\",label = \"validation_mae\")\n",
    "plt.xlabel(\"epochs\")\n",
    "plt.ylabel(\"MAE\")\n",
    "plt.title(\"Training and validation mae\")\n",
    "plt.legend()\n",
    "plt.show()"
   ]
  },
  {
   "cell_type": "markdown",
   "metadata": {},
   "source": [
    "# Evaluation on test data"
   ]
  },
  {
   "cell_type": "code",
   "execution_count": 125,
   "metadata": {},
   "outputs": [
    {
     "name": "stdout",
     "output_type": "stream",
     "text": [
      "350/1 - 0s - loss: 0.2276 - mae: 0.3597\n"
     ]
    }
   ],
   "source": [
    "loss , mae = model.evaluate(x_test,  y_test, verbose=2)"
   ]
  },
  {
   "cell_type": "markdown",
   "metadata": {},
   "source": [
    "# Prediction on test data"
   ]
  },
  {
   "cell_type": "code",
   "execution_count": 137,
   "metadata": {},
   "outputs": [
    {
     "name": "stdout",
     "output_type": "stream",
     "text": [
      "predicted :[[1.]]\n",
      "Actual : [[1.]]\n"
     ]
    }
   ],
   "source": [
    "m=model.predict(x_test[1:2])\n",
    "print(f\"predicted :{np.round(m,decimals=0)}\")\n",
    "print(f\"Actual : {np.round(y_test[1:2],decimals=0)}\")"
   ]
  },
  {
   "cell_type": "code",
   "execution_count": null,
   "metadata": {},
   "outputs": [],
   "source": []
  }
 ],
 "metadata": {
  "kernelspec": {
   "display_name": "Python 3",
   "language": "python",
   "name": "python3"
  },
  "language_info": {
   "codemirror_mode": {
    "name": "ipython",
    "version": 3
   },
   "file_extension": ".py",
   "mimetype": "text/x-python",
   "name": "python",
   "nbconvert_exporter": "python",
   "pygments_lexer": "ipython3",
   "version": "3.7.3"
  }
 },
 "nbformat": 4,
 "nbformat_minor": 2
}
