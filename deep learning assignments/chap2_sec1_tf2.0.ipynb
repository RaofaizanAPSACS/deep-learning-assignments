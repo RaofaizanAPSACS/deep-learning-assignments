{
 "cells": [
  {
   "cell_type": "code",
   "execution_count": 2,
   "metadata": {
    "colab": {},
    "colab_type": "code",
    "id": "tkja83E9FcnE"
   },
   "outputs": [],
   "source": [
    "import tensorflow as tf\n",
    "\n",
    "if tf.__version__ < \"2.0.0\":\n",
    "  !pip install --upgrade tensorflow_gpu==2.0"
   ]
  },
  {
   "cell_type": "code",
   "execution_count": 3,
   "metadata": {
    "colab": {
     "base_uri": "https://localhost:8080/",
     "height": 34
    },
    "colab_type": "code",
    "id": "Gda5jRovFiW0",
    "outputId": "2f20f6dd-a62f-44d6-a78c-1b777b9e9940"
   },
   "outputs": [
    {
     "name": "stdout",
     "output_type": "stream",
     "text": [
      "2.0.0\n"
     ]
    }
   ],
   "source": [
    "print(tf.__version__)"
   ]
  },
  {
   "cell_type": "markdown",
   "metadata": {
    "colab_type": "text",
    "id": "AR86319uF4Xo"
   },
   "source": [
    "# STEP 1 : Loading Data \n",
    "\n",
    "**The MNIST dataset comes preloaded in Keras, in the form of a set of four Numpy arrays.**\n",
    "\n",
    "**x_train and x_test parts contain greyscale RGB codes (from 0 to 255) .**\n",
    "\n",
    "**y_train and y_test parts contains labels from 0 to 9 which represents which number they actually are.**\n",
    "\n",
    "\n"
   ]
  },
  {
   "cell_type": "code",
   "execution_count": 4,
   "metadata": {
    "colab": {},
    "colab_type": "code",
    "id": "JLUtVo5nF2hj"
   },
   "outputs": [],
   "source": [
    "mnist = tf.keras.datasets.mnist"
   ]
  },
  {
   "cell_type": "code",
   "execution_count": 5,
   "metadata": {
    "colab": {
     "base_uri": "https://localhost:8080/",
     "height": 51
    },
    "colab_type": "code",
    "id": "7jbYAhkAF938",
    "outputId": "3804b21b-fd82-4b93-80aa-ba8b7cede695"
   },
   "outputs": [],
   "source": [
    "(x_train, y_train), (x_test, y_test) = mnist.load_data()  "
   ]
  },
  {
   "cell_type": "markdown",
   "metadata": {
    "colab_type": "text",
    "id": "BzbrhaPZGFU6"
   },
   "source": [
    "# STEP 2 : DATA PREPROCESSING\n",
    "\n",
    "We have to scale x_train and x_test so that all values are in the [0, 1] interval. **Why do we need to scale ?** goal of scaling is to speed up the algorithm's computation . It is used to change the values of numeric columns in the dataset to use a common scale, without distorting differences in the ranges of values or losing information. It is also required for some algorithms to model the data correctly.\n",
    "\n",
    "\n",
    "\n"
   ]
  },
  {
   "cell_type": "code",
   "execution_count": 6,
   "metadata": {
    "colab": {},
    "colab_type": "code",
    "id": "t6VBnJ93GBYz"
   },
   "outputs": [],
   "source": [
    "x_train, x_test = x_train / 255.0  ,  x_test / 255.0"
   ]
  },
  {
   "cell_type": "markdown",
   "metadata": {
    "colab_type": "text",
    "id": "aiVuJpU3GOef"
   },
   "source": [
    "# STEP 3 : BUILD NEURAL NETWORK MODEL"
   ]
  },
  {
   "cell_type": "code",
   "execution_count": 7,
   "metadata": {
    "colab": {},
    "colab_type": "code",
    "id": "6G1iXzKwGE8f"
   },
   "outputs": [],
   "source": [
    "model = tf.keras.models.Sequential([\n",
    "  tf.keras.layers.Flatten(input_shape=(28, 28)),\n",
    "  tf.keras.layers.Dense(128, activation='relu'),\n",
    "  tf.keras.layers.Dropout(0.2),\n",
    "  tf.keras.layers.Dense(10, activation='softmax')\n",
    "])"
   ]
  },
  {
   "cell_type": "markdown",
   "metadata": {
    "colab_type": "text",
    "id": "DKqXFd79Gn94"
   },
   "source": [
    "# STEP 4 : COMPILATION"
   ]
  },
  {
   "cell_type": "code",
   "execution_count": 12,
   "metadata": {
    "colab": {},
    "colab_type": "code",
    "id": "DVJ9fFM-GTBx"
   },
   "outputs": [],
   "source": [
    "model.compile(optimizer='adam',\n",
    "              loss='sparse_categorical_crossentropy',\n",
    "              metrics=['accuracy'])"
   ]
  },
  {
   "cell_type": "markdown",
   "metadata": {
    "colab_type": "text",
    "id": "Fp3f6yIoHRmo"
   },
   "source": [
    "# STEP 5 : TRAIN THE MODEL"
   ]
  },
  {
   "cell_type": "code",
   "execution_count": 13,
   "metadata": {
    "colab": {
     "base_uri": "https://localhost:8080/",
     "height": 221
    },
    "colab_type": "code",
    "id": "XrcQAPArHA4L",
    "outputId": "a175270f-0697-4b0f-aff3-d75fc3200924"
   },
   "outputs": [
    {
     "name": "stdout",
     "output_type": "stream",
     "text": [
      "Train on 60000 samples\n",
      "Epoch 1/5\n",
      "60000/60000 [==============================] - 27s 446us/sample - loss: 0.0504 - accuracy: 0.9829\n",
      "Epoch 2/5\n",
      "60000/60000 [==============================] - 22s 366us/sample - loss: 0.0473 - accuracy: 0.9849\n",
      "Epoch 3/5\n",
      "60000/60000 [==============================] - 21s 356us/sample - loss: 0.0429 - accuracy: 0.9861\n",
      "Epoch 4/5\n",
      "60000/60000 [==============================] - 22s 360us/sample - loss: 0.0394 - accuracy: 0.9869\n",
      "Epoch 5/5\n",
      "60000/60000 [==============================] - 21s 355us/sample - loss: 0.0371 - accuracy: 0.9876\n"
     ]
    },
    {
     "data": {
      "text/plain": [
       "<tensorflow.python.keras.callbacks.History at 0x1cce02f7128>"
      ]
     },
     "execution_count": 13,
     "metadata": {},
     "output_type": "execute_result"
    }
   ],
   "source": [
    "model.fit(x_train, y_train, epochs=5)"
   ]
  },
  {
   "cell_type": "markdown",
   "metadata": {
    "colab_type": "text",
    "id": "o5M60K4iHzed"
   },
   "source": [
    "# STEP 6 : EVALUATE THE TRAINING \n",
    "\n",
    "### Now let’s check that the model performs well on the test set, too:"
   ]
  },
  {
   "cell_type": "code",
   "execution_count": 14,
   "metadata": {
    "colab": {
     "base_uri": "https://localhost:8080/",
     "height": 34
    },
    "colab_type": "code",
    "id": "FRfnoWkNHp0M",
    "outputId": "b76bb18a-d3d1-4ab6-baa7-43ddf0f97b24"
   },
   "outputs": [
    {
     "name": "stdout",
     "output_type": "stream",
     "text": [
      "10000/1 - 5s - loss: 0.0377 - accuracy: 0.9796\n"
     ]
    }
   ],
   "source": [
    "evaluation = model.evaluate(x_test,  y_test, verbose=2)      "
   ]
  },
  {
   "cell_type": "code",
   "execution_count": 15,
   "metadata": {
    "colab": {
     "base_uri": "https://localhost:8080/",
     "height": 51
    },
    "colab_type": "code",
    "id": "e74QmEfYITb7",
    "outputId": "67fe8dc3-5c8f-4c1b-ce32-c863a686793d"
   },
   "outputs": [
    {
     "name": "stdout",
     "output_type": "stream",
     "text": [
      "0.07509802359003806\n",
      "0.9796\n"
     ]
    }
   ],
   "source": [
    "print(evaluation[0])   #test loss\n",
    "print(evaluation[1])   #test accuracy"
   ]
  },
  {
   "cell_type": "markdown",
   "metadata": {
    "colab_type": "text",
    "id": "aZ_YfIkiKBIr"
   },
   "source": [
    "# STEP 7 (optional) : PREDICTION"
   ]
  },
  {
   "cell_type": "code",
   "execution_count": null,
   "metadata": {
    "colab": {
     "base_uri": "https://localhost:8080/",
     "height": 282
    },
    "colab_type": "code",
    "id": "ddDL6T8XJyMQ",
    "outputId": "6217ab4e-6b1e-47e8-f34e-4463436020aa"
   },
   "outputs": [],
   "source": [
    "import matplotlib.pyplot as plt\n",
    "plt.imshow(x_test[90],cmap='Greys')\n",
    "model.predict_classes(x_test[90].reshape(1, 28, 28 ))\n"
   ]
  },
  {
   "cell_type": "code",
   "execution_count": 23,
   "metadata": {
    "colab": {
     "base_uri": "https://localhost:8080/",
     "height": 34
    },
    "colab_type": "code",
    "id": "WbnDC1AGIykE",
    "outputId": "8e9d24da-e3ba-438b-c641-4af23c1bd44f"
   },
   "outputs": [
    {
     "data": {
      "text/plain": [
       "array([9])"
      ]
     },
     "execution_count": 23,
     "metadata": {
      "tags": []
     },
     "output_type": "execute_result"
    }
   ],
   "source": [
    "model.predict_classes(x_test[7].reshape(1,28,28))"
   ]
  },
  {
   "cell_type": "code",
   "execution_count": 21,
   "metadata": {
    "colab": {
     "base_uri": "https://localhost:8080/",
     "height": 34
    },
    "colab_type": "code",
    "id": "VKZB6zz-Juub",
    "outputId": "a22904c2-5dd1-4a9e-fb1d-230c3885fb9e"
   },
   "outputs": [
    {
     "data": {
      "text/plain": [
       "9"
      ]
     },
     "execution_count": 21,
     "metadata": {
      "tags": []
     },
     "output_type": "execute_result"
    }
   ],
   "source": [
    "y_test[7]"
   ]
  }
 ],
 "metadata": {
  "accelerator": "GPU",
  "colab": {
   "name": "class1_tf2.0.ipynb",
   "provenance": []
  },
  "kernelspec": {
   "display_name": "Python 3",
   "language": "python",
   "name": "python3"
  },
  "language_info": {
   "codemirror_mode": {
    "name": "ipython",
    "version": 3
   },
   "file_extension": ".py",
   "mimetype": "text/x-python",
   "name": "python",
   "nbconvert_exporter": "python",
   "pygments_lexer": "ipython3",
   "version": "3.7.3"
  }
 },
 "nbformat": 4,
 "nbformat_minor": 1
}
