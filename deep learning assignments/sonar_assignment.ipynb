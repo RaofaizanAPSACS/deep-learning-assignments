{
 "cells": [
  {
   "cell_type": "code",
   "execution_count": 474,
   "metadata": {},
   "outputs": [],
   "source": [
    "import pandas as pd\n",
    "import numpy as np\n",
    "from sklearn import preprocessing\n",
    "import tensorflow as tf"
   ]
  },
  {
   "cell_type": "code",
   "execution_count": 475,
   "metadata": {},
   "outputs": [
    {
     "data": {
      "text/plain": [
       "'1 load dataset\\n2 shuffle data\\n3 split training ,testing and validation\\n4 split inputs and labels(output)\\n5 one hot encoding \\n6 fit model without validation\\n7 fit model with validation(with history)\\n8 create graph\\n9 adjust ephoc based on graph\\n10 check train and test accuaries are match or not \\n( ch 3 3:17-20)'"
      ]
     },
     "execution_count": 475,
     "metadata": {},
     "output_type": "execute_result"
    }
   ],
   "source": [
    "'''1 load dataset\n",
    "2 shuffle data\n",
    "3 split training ,testing and validation\n",
    "4 split inputs and labels(output)\n",
    "5 one hot encoding \n",
    "6 fit model without validation\n",
    "7 fit model with validation(with history)\n",
    "8 create graph\n",
    "9 adjust ephoc based on graph\n",
    "10 check train and test accuaries are match or not \n",
    "( ch 3 3:17-20)'''"
   ]
  },
  {
   "cell_type": "code",
   "execution_count": 476,
   "metadata": {},
   "outputs": [
    {
     "data": {
      "text/plain": [
       "(208, 61)"
      ]
     },
     "execution_count": 476,
     "metadata": {},
     "output_type": "execute_result"
    }
   ],
   "source": [
    "# data loading\n",
    "no = list(np.arange(61))\n",
    "df = pd.read_csv(\"sonar.csv\",names=no)\n",
    "df.shape"
   ]
  },
  {
   "cell_type": "code",
   "execution_count": 477,
   "metadata": {},
   "outputs": [],
   "source": [
    "# data shuffling\n",
    "df = df.sample(frac=1)"
   ]
  },
  {
   "cell_type": "code",
   "execution_count": 478,
   "metadata": {},
   "outputs": [
    {
     "data": {
      "text/plain": [
       "array([0, 1])"
      ]
     },
     "execution_count": 478,
     "metadata": {},
     "output_type": "execute_result"
    }
   ],
   "source": [
    "# One hot coding \n",
    "# label_encoder object knows how to understand word labels. \n",
    "label_encoder = preprocessing.LabelEncoder() \n",
    "#df.iloc[:,60]\n",
    "  \n",
    "# Encode labels in column 'species'. \n",
    "df.iloc[:,60]= label_encoder.fit_transform(df.iloc[:,60]) \n",
    "np.unique(df.iloc[:,60])"
   ]
  },
  {
   "cell_type": "code",
   "execution_count": 479,
   "metadata": {},
   "outputs": [],
   "source": [
    "features = df.iloc[:,:60].values\n",
    "labels = df.iloc[:,60].values"
   ]
  },
  {
   "cell_type": "code",
   "execution_count": 510,
   "metadata": {},
   "outputs": [],
   "source": [
    "x_train = features[:104]\n",
    "y_train = labels[:104]\n",
    "x_test = features[104:167]\n",
    "y_test = labels[104:167]\n",
    "x_val = features[167:]\n",
    "y_val = labels[167:]"
   ]
  },
  {
   "cell_type": "code",
   "execution_count": 507,
   "metadata": {},
   "outputs": [],
   "source": [
    "import matplotlib.pyplot as plt"
   ]
  },
  {
   "cell_type": "markdown",
   "metadata": {},
   "source": [
    "# K-Fold validation"
   ]
  },
  {
   "cell_type": "code",
   "execution_count": 556,
   "metadata": {},
   "outputs": [
    {
     "name": "stdout",
     "output_type": "stream",
     "text": [
      "processing fold :  0\n",
      "Train on 156 samples, validate on 52 samples\n",
      "Epoch 1/25\n",
      "156/156 [==============================] - 2s 13ms/sample - loss: 0.6339 - accuracy: 0.6667 - val_loss: 0.9126 - val_accuracy: 0.4231\n",
      "Epoch 2/25\n",
      "156/156 [==============================] - 0s 930us/sample - loss: 0.5822 - accuracy: 0.6603 - val_loss: 0.8650 - val_accuracy: 0.4808\n",
      "Epoch 3/25\n",
      "156/156 [==============================] - 0s 1ms/sample - loss: 0.5199 - accuracy: 0.7500 - val_loss: 0.6379 - val_accuracy: 0.5769\n",
      "Epoch 4/25\n",
      "156/156 [==============================] - 0s 692us/sample - loss: 0.4879 - accuracy: 0.7885 - val_loss: 0.5938 - val_accuracy: 0.6731\n",
      "Epoch 5/25\n",
      "156/156 [==============================] - 0s 846us/sample - loss: 0.5050 - accuracy: 0.7628 - val_loss: 0.8160 - val_accuracy: 0.5192\n",
      "Epoch 6/25\n",
      "156/156 [==============================] - 0s 667us/sample - loss: 0.5055 - accuracy: 0.7308 - val_loss: 0.8105 - val_accuracy: 0.5192\n",
      "Epoch 7/25\n",
      "156/156 [==============================] - 0s 642us/sample - loss: 0.4398 - accuracy: 0.8013 - val_loss: 0.5916 - val_accuracy: 0.6731\n",
      "Epoch 8/25\n",
      "156/156 [==============================] - 0s 793us/sample - loss: 0.4060 - accuracy: 0.8397 - val_loss: 0.6526 - val_accuracy: 0.5962\n",
      "Epoch 9/25\n",
      "156/156 [==============================] - 0s 692us/sample - loss: 0.3950 - accuracy: 0.8205 - val_loss: 0.5286 - val_accuracy: 0.7692\n",
      "Epoch 10/25\n",
      "156/156 [==============================] - 0s 718us/sample - loss: 0.4012 - accuracy: 0.7949 - val_loss: 0.7027 - val_accuracy: 0.6154\n",
      "Epoch 11/25\n",
      "156/156 [==============================] - 0s 795us/sample - loss: 0.4175 - accuracy: 0.7949 - val_loss: 0.5142 - val_accuracy: 0.7500\n",
      "Epoch 12/25\n",
      "156/156 [==============================] - 0s 872us/sample - loss: 0.4029 - accuracy: 0.7949 - val_loss: 0.5098 - val_accuracy: 0.7500\n",
      "Epoch 13/25\n",
      "156/156 [==============================] - 0s 692us/sample - loss: 0.3410 - accuracy: 0.8718 - val_loss: 0.7634 - val_accuracy: 0.5962\n",
      "Epoch 14/25\n",
      "156/156 [==============================] - 0s 692us/sample - loss: 0.3683 - accuracy: 0.8205 - val_loss: 0.7086 - val_accuracy: 0.6154\n",
      "Epoch 15/25\n",
      "156/156 [==============================] - 0s 692us/sample - loss: 0.3599 - accuracy: 0.8205 - val_loss: 0.7874 - val_accuracy: 0.5962\n",
      "Epoch 16/25\n",
      "156/156 [==============================] - 0s 667us/sample - loss: 0.3841 - accuracy: 0.8205 - val_loss: 0.4964 - val_accuracy: 0.7500\n",
      "Epoch 17/25\n",
      "156/156 [==============================] - 0s 692us/sample - loss: 0.3225 - accuracy: 0.8718 - val_loss: 0.6521 - val_accuracy: 0.6346\n",
      "Epoch 18/25\n",
      "156/156 [==============================] - 0s 640us/sample - loss: 0.3107 - accuracy: 0.8718 - val_loss: 0.4892 - val_accuracy: 0.7885\n",
      "Epoch 19/25\n",
      "156/156 [==============================] - 0s 734us/sample - loss: 0.2814 - accuracy: 0.8974 - val_loss: 0.6502 - val_accuracy: 0.6731\n",
      "Epoch 20/25\n",
      "156/156 [==============================] - 0s 692us/sample - loss: 0.3206 - accuracy: 0.8526 - val_loss: 0.5743 - val_accuracy: 0.6923\n",
      "Epoch 21/25\n",
      "156/156 [==============================] - 0s 692us/sample - loss: 0.3313 - accuracy: 0.8590 - val_loss: 0.4750 - val_accuracy: 0.7885\n",
      "Epoch 22/25\n",
      "156/156 [==============================] - 0s 718us/sample - loss: 0.2792 - accuracy: 0.9103 - val_loss: 0.4819 - val_accuracy: 0.7885\n",
      "Epoch 23/25\n",
      "156/156 [==============================] - 0s 667us/sample - loss: 0.2903 - accuracy: 0.8654 - val_loss: 0.8596 - val_accuracy: 0.5962\n",
      "Epoch 24/25\n",
      "156/156 [==============================] - 0s 692us/sample - loss: 0.3086 - accuracy: 0.8718 - val_loss: 0.4487 - val_accuracy: 0.8269\n",
      "Epoch 25/25\n",
      "156/156 [==============================] - 0s 692us/sample - loss: 0.2748 - accuracy: 0.8910 - val_loss: 0.4544 - val_accuracy: 0.7885\n",
      "52/1 - 0s - loss: 0.3927 - accuracy: 0.7885\n",
      "processing fold :  1\n",
      "Train on 156 samples, validate on 52 samples\n",
      "Epoch 1/25\n",
      "156/156 [==============================] - 2s 11ms/sample - loss: 0.7161 - accuracy: 0.4423 - val_loss: 0.6431 - val_accuracy: 0.5769\n",
      "Epoch 2/25\n",
      "156/156 [==============================] - 0s 715us/sample - loss: 0.6319 - accuracy: 0.6603 - val_loss: 0.6341 - val_accuracy: 0.5769\n",
      "Epoch 3/25\n",
      "156/156 [==============================] - 0s 692us/sample - loss: 0.6075 - accuracy: 0.6667 - val_loss: 0.5805 - val_accuracy: 0.7692\n",
      "Epoch 4/25\n",
      "156/156 [==============================] - 0s 692us/sample - loss: 0.5654 - accuracy: 0.7500 - val_loss: 0.5538 - val_accuracy: 0.7115\n",
      "Epoch 5/25\n",
      "156/156 [==============================] - 0s 692us/sample - loss: 0.5290 - accuracy: 0.7244 - val_loss: 0.5310 - val_accuracy: 0.7115\n",
      "Epoch 6/25\n",
      "156/156 [==============================] - 0s 693us/sample - loss: 0.5138 - accuracy: 0.7436 - val_loss: 0.5028 - val_accuracy: 0.7885\n",
      "Epoch 7/25\n",
      "156/156 [==============================] - 0s 704us/sample - loss: 0.4880 - accuracy: 0.7628 - val_loss: 0.5308 - val_accuracy: 0.6923\n",
      "Epoch 8/25\n",
      "156/156 [==============================] - 0s 692us/sample - loss: 0.4856 - accuracy: 0.7628 - val_loss: 0.4784 - val_accuracy: 0.7308\n",
      "Epoch 9/25\n",
      "156/156 [==============================] - 0s 718us/sample - loss: 0.4452 - accuracy: 0.8269 - val_loss: 0.4795 - val_accuracy: 0.7500\n",
      "Epoch 10/25\n",
      "156/156 [==============================] - 0s 718us/sample - loss: 0.4177 - accuracy: 0.8462 - val_loss: 0.4456 - val_accuracy: 0.8462\n",
      "Epoch 11/25\n",
      "156/156 [==============================] - 0s 692us/sample - loss: 0.4767 - accuracy: 0.7436 - val_loss: 0.4509 - val_accuracy: 0.7308\n",
      "Epoch 12/25\n",
      "156/156 [==============================] - 0s 666us/sample - loss: 0.3776 - accuracy: 0.8526 - val_loss: 0.4444 - val_accuracy: 0.7500\n",
      "Epoch 13/25\n",
      "156/156 [==============================] - 0s 641us/sample - loss: 0.3800 - accuracy: 0.8205 - val_loss: 0.4662 - val_accuracy: 0.7692\n",
      "Epoch 14/25\n",
      "156/156 [==============================] - 0s 666us/sample - loss: 0.3429 - accuracy: 0.8718 - val_loss: 0.4242 - val_accuracy: 0.8077\n",
      "Epoch 15/25\n",
      "156/156 [==============================] - 0s 667us/sample - loss: 0.3357 - accuracy: 0.8718 - val_loss: 0.4311 - val_accuracy: 0.8269\n",
      "Epoch 16/25\n",
      "156/156 [==============================] - 0s 641us/sample - loss: 0.3493 - accuracy: 0.8333 - val_loss: 0.4373 - val_accuracy: 0.8269\n",
      "Epoch 17/25\n",
      "156/156 [==============================] - 0s 641us/sample - loss: 0.3221 - accuracy: 0.8526 - val_loss: 0.4405 - val_accuracy: 0.8462\n",
      "Epoch 18/25\n",
      "156/156 [==============================] - 0s 641us/sample - loss: 0.4092 - accuracy: 0.7885 - val_loss: 0.4583 - val_accuracy: 0.7500\n",
      "Epoch 19/25\n",
      "156/156 [==============================] - 0s 641us/sample - loss: 0.2951 - accuracy: 0.8846 - val_loss: 0.4322 - val_accuracy: 0.8269\n",
      "Epoch 20/25\n",
      "156/156 [==============================] - 0s 692us/sample - loss: 0.3184 - accuracy: 0.8590 - val_loss: 0.5339 - val_accuracy: 0.7500\n",
      "Epoch 21/25\n",
      "156/156 [==============================] - 0s 590us/sample - loss: 0.3119 - accuracy: 0.8654 - val_loss: 0.4217 - val_accuracy: 0.8269\n",
      "Epoch 22/25\n",
      "156/156 [==============================] - 0s 734us/sample - loss: 0.2609 - accuracy: 0.9167 - val_loss: 0.4119 - val_accuracy: 0.8269\n",
      "Epoch 23/25\n",
      "156/156 [==============================] - 0s 641us/sample - loss: 0.2405 - accuracy: 0.9423 - val_loss: 0.4600 - val_accuracy: 0.7500\n",
      "Epoch 24/25\n",
      "156/156 [==============================] - 0s 641us/sample - loss: 0.2671 - accuracy: 0.8910 - val_loss: 0.5558 - val_accuracy: 0.7115\n",
      "Epoch 25/25\n",
      "156/156 [==============================] - 0s 641us/sample - loss: 0.2345 - accuracy: 0.9167 - val_loss: 0.4363 - val_accuracy: 0.8077\n",
      "52/1 - 0s - loss: 0.3920 - accuracy: 0.8077\n",
      "processing fold :  2\n",
      "Train on 156 samples, validate on 52 samples\n",
      "Epoch 1/25\n",
      "156/156 [==============================] - 2s 11ms/sample - loss: 0.6935 - accuracy: 0.5449 - val_loss: 0.6054 - val_accuracy: 0.6731\n",
      "Epoch 2/25\n",
      "156/156 [==============================] - 0s 641us/sample - loss: 0.6243 - accuracy: 0.6667 - val_loss: 0.5546 - val_accuracy: 0.7500\n",
      "Epoch 3/25\n",
      "156/156 [==============================] - 0s 641us/sample - loss: 0.6139 - accuracy: 0.6603 - val_loss: 0.5743 - val_accuracy: 0.7500\n",
      "Epoch 4/25\n",
      "156/156 [==============================] - 0s 668us/sample - loss: 0.5850 - accuracy: 0.7179 - val_loss: 0.4999 - val_accuracy: 0.8269\n"
     ]
    },
    {
     "name": "stdout",
     "output_type": "stream",
     "text": [
      "Epoch 5/25\n",
      "156/156 [==============================] - 0s 686us/sample - loss: 0.5615 - accuracy: 0.7244 - val_loss: 0.4818 - val_accuracy: 0.7885\n",
      "Epoch 6/25\n",
      "156/156 [==============================] - 0s 641us/sample - loss: 0.5128 - accuracy: 0.7821 - val_loss: 0.6878 - val_accuracy: 0.5577\n",
      "Epoch 7/25\n",
      "156/156 [==============================] - 0s 666us/sample - loss: 0.5014 - accuracy: 0.7564 - val_loss: 0.4572 - val_accuracy: 0.7885\n",
      "Epoch 8/25\n",
      "156/156 [==============================] - 0s 615us/sample - loss: 0.4851 - accuracy: 0.7756 - val_loss: 0.4266 - val_accuracy: 0.8077\n",
      "Epoch 9/25\n",
      "156/156 [==============================] - 0s 615us/sample - loss: 0.4589 - accuracy: 0.7949 - val_loss: 0.4308 - val_accuracy: 0.7885\n",
      "Epoch 10/25\n",
      "156/156 [==============================] - 0s 615us/sample - loss: 0.4702 - accuracy: 0.7821 - val_loss: 0.4166 - val_accuracy: 0.7885\n",
      "Epoch 11/25\n",
      "156/156 [==============================] - 0s 641us/sample - loss: 0.4378 - accuracy: 0.8590 - val_loss: 0.3992 - val_accuracy: 0.8269\n",
      "Epoch 12/25\n",
      "156/156 [==============================] - 0s 615us/sample - loss: 0.4211 - accuracy: 0.7885 - val_loss: 0.4285 - val_accuracy: 0.7308\n",
      "Epoch 13/25\n",
      "156/156 [==============================] - 0s 641us/sample - loss: 0.3939 - accuracy: 0.8526 - val_loss: 0.4531 - val_accuracy: 0.8077\n",
      "Epoch 14/25\n",
      "156/156 [==============================] - 0s 615us/sample - loss: 0.3786 - accuracy: 0.8333 - val_loss: 0.3716 - val_accuracy: 0.8077\n",
      "Epoch 15/25\n",
      "156/156 [==============================] - 0s 615us/sample - loss: 0.3478 - accuracy: 0.8782 - val_loss: 0.3697 - val_accuracy: 0.8077\n",
      "Epoch 16/25\n",
      "156/156 [==============================] - 0s 641us/sample - loss: 0.3998 - accuracy: 0.8141 - val_loss: 0.3727 - val_accuracy: 0.7885\n",
      "Epoch 17/25\n",
      "156/156 [==============================] - 0s 641us/sample - loss: 0.3268 - accuracy: 0.8782 - val_loss: 0.3764 - val_accuracy: 0.8269\n",
      "Epoch 18/25\n",
      "156/156 [==============================] - 0s 666us/sample - loss: 0.3815 - accuracy: 0.8077 - val_loss: 0.6013 - val_accuracy: 0.7115\n",
      "Epoch 19/25\n",
      "156/156 [==============================] - 0s 615us/sample - loss: 0.3874 - accuracy: 0.8077 - val_loss: 0.3729 - val_accuracy: 0.8077\n",
      "Epoch 20/25\n",
      "156/156 [==============================] - 0s 615us/sample - loss: 0.3085 - accuracy: 0.8782 - val_loss: 0.3868 - val_accuracy: 0.7885\n",
      "Epoch 21/25\n",
      "156/156 [==============================] - 0s 615us/sample - loss: 0.2929 - accuracy: 0.9038 - val_loss: 0.4284 - val_accuracy: 0.8077\n",
      "Epoch 22/25\n",
      "156/156 [==============================] - 0s 641us/sample - loss: 0.3222 - accuracy: 0.8654 - val_loss: 0.3899 - val_accuracy: 0.7500\n",
      "Epoch 23/25\n",
      "156/156 [==============================] - 0s 641us/sample - loss: 0.2732 - accuracy: 0.9231 - val_loss: 0.3562 - val_accuracy: 0.8077\n",
      "Epoch 24/25\n",
      "156/156 [==============================] - 0s 666us/sample - loss: 0.3214 - accuracy: 0.8590 - val_loss: 0.3717 - val_accuracy: 0.7692\n",
      "Epoch 25/25\n",
      "156/156 [==============================] - 0s 641us/sample - loss: 0.2498 - accuracy: 0.9359 - val_loss: 0.4577 - val_accuracy: 0.7500\n",
      "52/1 - 0s - loss: 0.4425 - accuracy: 0.7500\n",
      "processing fold :  3\n",
      "Train on 156 samples, validate on 52 samples\n",
      "Epoch 1/25\n",
      "156/156 [==============================] - 2s 11ms/sample - loss: 0.6944 - accuracy: 0.5577 - val_loss: 0.6205 - val_accuracy: 0.7308\n",
      "Epoch 2/25\n",
      "156/156 [==============================] - 0s 641us/sample - loss: 0.6390 - accuracy: 0.5897 - val_loss: 0.6029 - val_accuracy: 0.6346\n",
      "Epoch 3/25\n",
      "156/156 [==============================] - 0s 641us/sample - loss: 0.6155 - accuracy: 0.6859 - val_loss: 0.5703 - val_accuracy: 0.6923\n",
      "Epoch 4/25\n",
      "156/156 [==============================] - 0s 615us/sample - loss: 0.5535 - accuracy: 0.7436 - val_loss: 0.6576 - val_accuracy: 0.5769\n",
      "Epoch 5/25\n",
      "156/156 [==============================] - 0s 615us/sample - loss: 0.5466 - accuracy: 0.7179 - val_loss: 0.5438 - val_accuracy: 0.7115\n",
      "Epoch 6/25\n",
      "156/156 [==============================] - 0s 615us/sample - loss: 0.4935 - accuracy: 0.7821 - val_loss: 0.5338 - val_accuracy: 0.6923\n",
      "Epoch 7/25\n",
      "156/156 [==============================] - 0s 615us/sample - loss: 0.4514 - accuracy: 0.8397 - val_loss: 0.5436 - val_accuracy: 0.7500\n",
      "Epoch 8/25\n",
      "156/156 [==============================] - 0s 641us/sample - loss: 0.5338 - accuracy: 0.7372 - val_loss: 0.5353 - val_accuracy: 0.7885\n",
      "Epoch 9/25\n",
      "156/156 [==============================] - 0s 641us/sample - loss: 0.4214 - accuracy: 0.8269 - val_loss: 0.5937 - val_accuracy: 0.6346\n",
      "Epoch 10/25\n",
      "156/156 [==============================] - 0s 615us/sample - loss: 0.4483 - accuracy: 0.7821 - val_loss: 0.6599 - val_accuracy: 0.5962\n",
      "Epoch 11/25\n",
      "156/156 [==============================] - 0s 641us/sample - loss: 0.4304 - accuracy: 0.7628 - val_loss: 0.5426 - val_accuracy: 0.7500\n",
      "Epoch 12/25\n",
      "156/156 [==============================] - 0s 615us/sample - loss: 0.4284 - accuracy: 0.7692 - val_loss: 0.5147 - val_accuracy: 0.7500\n",
      "Epoch 13/25\n",
      "156/156 [==============================] - 0s 641us/sample - loss: 0.4039 - accuracy: 0.8333 - val_loss: 0.5600 - val_accuracy: 0.7500\n",
      "Epoch 14/25\n",
      "156/156 [==============================] - 0s 641us/sample - loss: 0.3486 - accuracy: 0.8910 - val_loss: 0.5377 - val_accuracy: 0.7692\n",
      "Epoch 15/25\n",
      "156/156 [==============================] - 0s 641us/sample - loss: 0.3602 - accuracy: 0.8654 - val_loss: 0.6410 - val_accuracy: 0.5962\n",
      "Epoch 16/25\n",
      "156/156 [==============================] - 0s 615us/sample - loss: 0.3644 - accuracy: 0.8077 - val_loss: 0.5188 - val_accuracy: 0.7308\n",
      "Epoch 17/25\n",
      "156/156 [==============================] - 0s 692us/sample - loss: 0.3469 - accuracy: 0.8397 - val_loss: 0.5120 - val_accuracy: 0.7692\n",
      "Epoch 18/25\n",
      "156/156 [==============================] - 0s 641us/sample - loss: 0.3192 - accuracy: 0.8718 - val_loss: 0.6142 - val_accuracy: 0.6538\n",
      "Epoch 19/25\n",
      "156/156 [==============================] - 0s 641us/sample - loss: 0.3634 - accuracy: 0.7949 - val_loss: 0.5641 - val_accuracy: 0.7500\n",
      "Epoch 20/25\n",
      "156/156 [==============================] - 0s 641us/sample - loss: 0.3271 - accuracy: 0.8846 - val_loss: 0.5477 - val_accuracy: 0.7885\n",
      "Epoch 21/25\n",
      "156/156 [==============================] - 0s 641us/sample - loss: 0.2916 - accuracy: 0.9038 - val_loss: 0.5454 - val_accuracy: 0.7500\n",
      "Epoch 22/25\n",
      "156/156 [==============================] - 0s 618us/sample - loss: 0.4403 - accuracy: 0.7821 - val_loss: 0.5128 - val_accuracy: 0.7692\n",
      "Epoch 23/25\n",
      "156/156 [==============================] - 0s 641us/sample - loss: 0.2722 - accuracy: 0.9038 - val_loss: 0.5155 - val_accuracy: 0.7692\n",
      "Epoch 24/25\n",
      "156/156 [==============================] - 0s 641us/sample - loss: 0.3205 - accuracy: 0.8526 - val_loss: 0.5556 - val_accuracy: 0.7692\n",
      "Epoch 25/25\n",
      "156/156 [==============================] - 0s 666us/sample - loss: 0.2694 - accuracy: 0.9038 - val_loss: 0.5221 - val_accuracy: 0.7885\n",
      "52/1 - 0s - loss: 0.5056 - accuracy: 0.7885\n"
     ]
    }
   ],
   "source": [
    "k = 4\n",
    "num_samples = len(features)//k\n",
    "scores = []\n",
    "\n",
    "for i in range(k):\n",
    "    print(\"processing fold : \",i)\n",
    "    val_x  = features[i*num_samples:(i+1)*num_samples]\n",
    "    val_y  = labels[i*num_samples:(i+1)*num_samples]\n",
    "    train_x  = np.concatenate([features[:i*num_samples],features[(i+1)*num_samples:]],axis=0)\n",
    "    train_y  = np.concatenate([labels[:i*num_samples],labels[(i+1)*num_samples:]],axis=0)\n",
    "    model = tf.keras.Sequential([\n",
    "      tf.keras.layers.Dense(512, activation='relu', input_shape=(60,)),# input shape required\n",
    "      tf.keras.layers.Dense(128, activation='relu'),\n",
    "      tf.keras.layers.Dense(1,activation='sigmoid')\n",
    "    ])\n",
    "    \n",
    "    \n",
    "    model.compile(optimizer='rmsprop',\n",
    "                  loss='binary_crossentropy',\n",
    "                  metrics=['accuracy'])\n",
    "    history = model.fit(train_x,train_y, epochs=25, batch_size=32 ,validation_data=(val_x,val_y))\n",
    "    loss,acc = model.evaluate(val_x,val_y, verbose=2)\n",
    "    scores.append(acc)\n",
    "    \n"
   ]
  },
  {
   "cell_type": "code",
   "execution_count": 557,
   "metadata": {},
   "outputs": [],
   "source": [
    "loss = history.history[\"lossa\"]\n",
    "val_loss = history.history[\"val_loss\"]\n",
    "acc = history.history[\"accuracy\"]\n"
   ]
  },
  {
   "cell_type": "code",
   "execution_count": 569,
   "metadata": {},
   "outputs": [
    {
     "data": {
      "image/png": "[encoded data removed]",
      "text/plain": [
       "<Figure size 432x288 with 1 Axes>"
      ]
     },
     "metadata": {
      "needs_background": "light"
     },
     "output_type": "display_data"
    },
    {
     "data": {
      "image/png": "[encoded data removed]",
      "text/plain": [
       "<Figure size 432x288 with 1 Axes>"
      ]
     },
     "metadata": {
      "needs_background": "light"
     },
     "output_type": "display_data"
    }
   ],
   "source": [
    "# for loss\n",
    " \n",
    "epochs = range(1, len(acc)+1)\n",
    "plt.plot(epochs,loss,\"bo\",label = \"Training_loss\")\n",
    "plt.plot(epochs,val_loss,\"b\",label = \"validation_loss\")\n",
    "plt.xlabel(\"epochs\")\n",
    "plt.ylabel(\"Loss\")\n",
    "plt.title(\"Training and validation loss\")\n",
    "plt.legend()\n",
    "plt.show()\n",
    "\n",
    "# for accuracy\n",
    " \n",
    "val_acc = history.history[\"val_accuracy\"]\n",
    "epochs = range(1, len(acc)+1)\n",
    "plt.plot(epochs,acc,\"bo\",label = \"Training_acc\")\n",
    "plt.plot(epochs,val_acc,\"b\",label = \"validation_acc\")\n",
    "plt.xlabel(\"epochs\")\n",
    "plt.ylabel(\"accuracy\")\n",
    "plt.title(\"Training and validation accuracy\")\n",
    "plt.legend()\n",
    "plt.show()"
   ]
  },
  {
   "cell_type": "code",
   "execution_count": 570,
   "metadata": {},
   "outputs": [
    {
     "name": "stdout",
     "output_type": "stream",
     "text": [
      "[0.78846157, 0.8076923, 0.75, 0.78846157]\n"
     ]
    },
    {
     "data": {
      "text/plain": [
       "0.78365386"
      ]
     },
     "execution_count": 570,
     "metadata": {},
     "output_type": "execute_result"
    }
   ],
   "source": [
    "# validation data mean score\n",
    "print(scores)\n",
    "np.mean(scores)"
   ]
  },
  {
   "cell_type": "code",
   "execution_count": 571,
   "metadata": {},
   "outputs": [
    {
     "name": "stdout",
     "output_type": "stream",
     "text": [
      "63/1 - 0s - loss: 0.2739 - accuracy: 0.9683\n"
     ]
    }
   ],
   "source": [
    "# evaluation on test data\n",
    "evaluation = model.evaluate(x_test,  y_test, verbose=2)"
   ]
  },
  {
   "cell_type": "code",
   "execution_count": 572,
   "metadata": {},
   "outputs": [
    {
     "name": "stdout",
     "output_type": "stream",
     "text": [
      "predicted: [[1]]\n",
      "true: [1]\n"
     ]
    }
   ],
   "source": [
    "m = model.predict_classes(x_test[7:8])\n",
    "print(\"predicted:\",m)\n",
    "print(\"true:\",y_test[7:8])"
   ]
  },
  {
   "cell_type": "code",
   "execution_count": null,
   "metadata": {},
   "outputs": [],
   "source": []
  }
 ],
 "metadata": {
  "kernelspec": {
   "display_name": "Python 3",
   "language": "python",
   "name": "python3"
  },
  "language_info": {
   "codemirror_mode": {
    "name": "ipython",
    "version": 3
   },
   "file_extension": ".py",
   "mimetype": "text/x-python",
   "name": "python",
   "nbconvert_exporter": "python",
   "pygments_lexer": "ipython3",
   "version": "3.7.3"
  }
 },
 "nbformat": 4,
 "nbformat_minor": 2
}
